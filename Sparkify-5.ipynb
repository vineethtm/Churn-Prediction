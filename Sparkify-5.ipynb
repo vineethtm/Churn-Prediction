{
 "cells": [
  {
   "cell_type": "markdown",
   "metadata": {},
   "source": [
    "# 1. Business Understanding\n",
    "\n",
    "Dataset represents the transactions of several users of a music streaming company. Each row in the datase represent an action by a user on the platform. It gives various informations like name of the user, UserId, where did the user click in the page or song played.\n",
    "\n",
    "Some of these users will eventually cancel their subscription. The aim of this project is predict who is going to churn before it happen\n"
   ]
  },
  {
   "cell_type": "code",
   "execution_count": 1,
   "metadata": {},
   "outputs": [],
   "source": [
    "# import libraries\n",
    "\n",
    "from pyspark.sql import SparkSession\n",
    "from pyspark.sql.functions import udf\n",
    "from pyspark.sql.types import StringType\n",
    "from pyspark.sql.types import IntegerType\n",
    "from pyspark.sql.types import FloatType\n",
    "from pyspark.sql.functions import desc\n",
    "from pyspark.sql.functions import asc\n",
    "from pyspark.sql.functions import sum as Fsum\n",
    "\n",
    "import datetime\n",
    "\n",
    "import numpy as np\n",
    "import pandas as pd\n",
    "%matplotlib inline\n",
    "import matplotlib.pyplot as plt\n",
    "plt.style.use('fivethirtyeight')\n",
    "\n",
    "from pyspark.ml.feature import OneHotEncoderEstimator,StringIndexer\n",
    "from pyspark.ml.feature import VectorAssembler\n",
    "from pyspark.ml import Pipeline\n",
    "\n",
    "from pyspark.ml.classification import LogisticRegression\n",
    "from pyspark.ml.feature import PolynomialExpansion\n",
    "import pyspark.ml.evaluation as evals\n",
    "import pyspark.ml.tuning as tune\n",
    "from pyspark.mllib.tree import DecisionTree, DecisionTreeModel\n",
    "from pyspark.ml.classification import RandomForestClassifier\n",
    "from pyspark.ml.classification import LinearSVC\n",
    "from pyspark.ml.feature import StandardScaler"
   ]
  },
  {
   "cell_type": "code",
   "execution_count": 2,
   "metadata": {},
   "outputs": [
    {
     "name": "stdout",
     "output_type": "stream",
     "text": [
      "2.4.3\n"
     ]
    }
   ],
   "source": [
    "# create a Spark session\n",
    "\n",
    "spark = SparkSession \\\n",
    "    .builder \\\n",
    "    .appName(\"Wrangling Data\") \\\n",
    "    .getOrCreate()\n",
    "\n",
    "print(spark.version)"
   ]
  },
  {
   "cell_type": "code",
   "execution_count": 3,
   "metadata": {},
   "outputs": [],
   "source": [
    "# Read the Data\n",
    "\n",
    "path=\"mini_sparkify_event_data.json\"\n",
    "spotify=spark.read.json(path)"
   ]
  },
  {
   "cell_type": "code",
   "execution_count": 4,
   "metadata": {},
   "outputs": [
    {
     "name": "stdout",
     "output_type": "stream",
     "text": [
      "artist\n",
      "auth\n",
      "firstName\n",
      "gender\n",
      "itemInSession\n",
      "lastName\n",
      "length\n",
      "level\n",
      "location\n",
      "method\n",
      "page\n",
      "registration\n",
      "sessionId\n",
      "song\n",
      "status\n",
      "ts\n",
      "userAgent\n",
      "userId\n"
     ]
    }
   ],
   "source": [
    " for col in spotify.columns:\n",
    "        print(col)"
   ]
  },
  {
   "cell_type": "markdown",
   "metadata": {},
   "source": [
    "# 2. Data Understanding"
   ]
  },
  {
   "cell_type": "code",
   "execution_count": 5,
   "metadata": {},
   "outputs": [
    {
     "name": "stdout",
     "output_type": "stream",
     "text": [
      "Total number of rows are : 286500\n",
      "\n",
      "Columns and number of unique values in each column are :\n",
      "\n",
      "artist 17656\n",
      "auth 4\n",
      "firstName 190\n",
      "gender 3\n",
      "itemInSession 1322\n",
      "lastName 174\n",
      "length 14866\n",
      "level 2\n",
      "location 115\n",
      "method 2\n",
      "page 22\n",
      "registration 226\n",
      "sessionId 2354\n",
      "song 58481\n",
      "status 3\n",
      "ts 277447\n",
      "userAgent 57\n",
      "userId 226\n"
     ]
    }
   ],
   "source": [
    "print(\"Total number of rows are :\",spotify.count())\n",
    "print(\"\\nColumns and number of unique values in each column are :\\n\")\n",
    "for col in spotify.columns:\n",
    "    print(col,spotify.select(col).distinct().count())"
   ]
  },
  {
   "cell_type": "markdown",
   "metadata": {},
   "source": [
    "Let's explore some of the colums with  small number of unique values like auth,gender,level"
   ]
  },
  {
   "cell_type": "code",
   "execution_count": 6,
   "metadata": {},
   "outputs": [
    {
     "name": "stdout",
     "output_type": "stream",
     "text": [
      "+----------+------+\n",
      "|      auth| count|\n",
      "+----------+------+\n",
      "|Logged Out|  8249|\n",
      "| Cancelled|    52|\n",
      "|     Guest|    97|\n",
      "| Logged In|278102|\n",
      "+----------+------+\n",
      "\n"
     ]
    }
   ],
   "source": [
    "spotify.select('auth').groupBy('auth').count().show()"
   ]
  },
  {
   "cell_type": "code",
   "execution_count": 7,
   "metadata": {},
   "outputs": [
    {
     "name": "stdout",
     "output_type": "stream",
     "text": [
      "+------+------+\n",
      "|gender| count|\n",
      "+------+------+\n",
      "|     F|154578|\n",
      "|  null|  8346|\n",
      "|     M|123576|\n",
      "+------+------+\n",
      "\n"
     ]
    }
   ],
   "source": [
    "spotify.select('gender').groupBy('gender').count().show()"
   ]
  },
  {
   "cell_type": "code",
   "execution_count": 8,
   "metadata": {},
   "outputs": [
    {
     "name": "stdout",
     "output_type": "stream",
     "text": [
      "+-----+------+\n",
      "|level| count|\n",
      "+-----+------+\n",
      "| free| 58338|\n",
      "| paid|228162|\n",
      "+-----+------+\n",
      "\n"
     ]
    }
   ],
   "source": [
    "spotify.select('level').groupBy('level').count().show()"
   ]
  },
  {
   "cell_type": "code",
   "execution_count": 9,
   "metadata": {},
   "outputs": [
    {
     "name": "stdout",
     "output_type": "stream",
     "text": [
      "+--------------------+------+\n",
      "|                page| count|\n",
      "+--------------------+------+\n",
      "|            NextSong|228108|\n",
      "|                Home| 14457|\n",
      "|           Thumbs Up| 12551|\n",
      "|     Add to Playlist|  6526|\n",
      "|          Add Friend|  4277|\n",
      "|         Roll Advert|  3933|\n",
      "|               Login|  3241|\n",
      "|              Logout|  3226|\n",
      "|         Thumbs Down|  2546|\n",
      "|           Downgrade|  2055|\n",
      "|                Help|  1726|\n",
      "|            Settings|  1514|\n",
      "|               About|   924|\n",
      "|             Upgrade|   499|\n",
      "|       Save Settings|   310|\n",
      "|               Error|   258|\n",
      "|      Submit Upgrade|   159|\n",
      "|    Submit Downgrade|    63|\n",
      "|              Cancel|    52|\n",
      "|Cancellation Conf...|    52|\n",
      "+--------------------+------+\n",
      "only showing top 20 rows\n",
      "\n"
     ]
    }
   ],
   "source": [
    "spotify.select('page').groupBy('page').count().orderBy('count',ascending=False).show()"
   ]
  },
  {
   "cell_type": "code",
   "execution_count": 10,
   "metadata": {},
   "outputs": [],
   "source": [
    "spotify.createOrReplaceTempView(\"spotify\")"
   ]
  },
  {
   "cell_type": "markdown",
   "metadata": {},
   "source": [
    "### Define churned users\n",
    "\n",
    "I need to define the churn first: There are two possibiliites\n",
    "\n",
    "A paid customer cancelled and\n",
    "A paid customer changes to free\n",
    "\n",
    "Cancelled Customers have 'Cancellation Confirmation' on the page column"
   ]
  },
  {
   "cell_type": "code",
   "execution_count": 11,
   "metadata": {},
   "outputs": [
    {
     "name": "stdout",
     "output_type": "stream",
     "text": [
      "+------+--------------------+\n",
      "|userId|                page|\n",
      "+------+--------------------+\n",
      "|    18|Cancellation Conf...|\n",
      "|    32|Cancellation Conf...|\n",
      "|   125|Cancellation Conf...|\n",
      "|   105|Cancellation Conf...|\n",
      "|    17|Cancellation Conf...|\n",
      "+------+--------------------+\n",
      "only showing top 5 rows\n",
      "\n",
      "+-----------------------+\n",
      "|Number_of_churned_users|\n",
      "+-----------------------+\n",
      "|                     52|\n",
      "+-----------------------+\n",
      "\n"
     ]
    }
   ],
   "source": [
    "query=\"\"\" \n",
    "select userId,page\n",
    "from spotify\n",
    "where page='Cancellation Confirmation'\n",
    "\"\"\"\n",
    "spark.sql(query).show(5)\n",
    "\n",
    "query=\"\"\" \n",
    "select count(distinct userId) Number_of_churned_users\n",
    "from spotify\n",
    "where page='Cancellation Confirmation'\n",
    "\"\"\"\n",
    "spark.sql(query).show(5)"
   ]
  },
  {
   "cell_type": "markdown",
   "metadata": {},
   "source": [
    "Let's look at the cancelled users in detail !"
   ]
  },
  {
   "cell_type": "code",
   "execution_count": 12,
   "metadata": {},
   "outputs": [
    {
     "name": "stdout",
     "output_type": "stream",
     "text": [
      "+-----+---------+-----+\n",
      "|level|     auth|count|\n",
      "+-----+---------+-----+\n",
      "| paid|Cancelled|   31|\n",
      "| free|Cancelled|   21|\n",
      "+-----+---------+-----+\n",
      "\n"
     ]
    }
   ],
   "source": [
    "query=\"\"\" \n",
    "Select level,auth,count(*) count\n",
    "from spotify\n",
    "where page='Cancellation Confirmation'\n",
    "group by level,auth\n",
    "\"\"\"\n",
    "spark.sql(query).show()"
   ]
  },
  {
   "cell_type": "markdown",
   "metadata": {},
   "source": [
    "So Cancelled users are both in free and paid categories. Some of the cancelled in free category may be in the trial version and other may be paid category and later changed to free. So let's look at these free accounts"
   ]
  },
  {
   "cell_type": "code",
   "execution_count": 13,
   "metadata": {},
   "outputs": [
    {
     "name": "stdout",
     "output_type": "stream",
     "text": [
      "+-----------+-----+\n",
      "|level_count|users|\n",
      "+-----------+-----+\n",
      "|          2|    5|\n",
      "|          1|   16|\n",
      "+-----------+-----+\n",
      "\n"
     ]
    }
   ],
   "source": [
    "# Following query calculate the number of distinct levels free users were in. If the number is 1, they were\n",
    "# free category. If 2, they were previsouly paid customers\n",
    "\n",
    "query=\"\"\" \n",
    "\n",
    "select level_count,count(level_count) as users\n",
    "from\n",
    "(Select userId, count(distinct level) as level_count\n",
    "from spotify\n",
    "Where userId In\n",
    "(Select userId\n",
    "from spotify\n",
    "where level='free' and auth='Cancelled')\n",
    "group by userID\n",
    "order by 2 desc) sub\n",
    "group by level_count\n",
    "\"\"\"\n",
    "spark.sql(query).show()"
   ]
  },
  {
   "cell_type": "markdown",
   "metadata": {},
   "source": [
    "So 16 out 21 free users who cancelled were always free users. For simplicity, I will avoid all users who are free when they cancelled"
   ]
  },
  {
   "cell_type": "code",
   "execution_count": 14,
   "metadata": {},
   "outputs": [
    {
     "name": "stdout",
     "output_type": "stream",
     "text": [
      "+------+\n",
      "|userId|\n",
      "+------+\n",
      "|100025|\n",
      "|100009|\n",
      "|100012|\n",
      "|200020|\n",
      "|200011|\n",
      "+------+\n",
      "\n"
     ]
    }
   ],
   "source": [
    "# Find the 5  free users who were cancelled and who were once paid\n",
    "\n",
    "query=\"\"\" \n",
    "select userId\n",
    "from\n",
    "(Select userId, count(distinct level) as level_count\n",
    "from spotify\n",
    "Where userId In\n",
    "(Select userId\n",
    "from spotify\n",
    "where level='free' and auth='Cancelled')\n",
    "group by userID\n",
    "order by 2 desc) sub\n",
    "where level_count=2\n",
    "group by userId\n",
    "\"\"\"\n",
    "spark.sql(query).show()"
   ]
  },
  {
   "cell_type": "markdown",
   "metadata": {},
   "source": [
    "Let's look at the users who changed from paid to free"
   ]
  },
  {
   "cell_type": "code",
   "execution_count": 15,
   "metadata": {},
   "outputs": [
    {
     "name": "stdout",
     "output_type": "stream",
     "text": [
      "+------+----------------+-----+----------+\n",
      "|userId|            page|level|lead_level|\n",
      "+------+----------------+-----+----------+\n",
      "|   100|Submit Downgrade| paid|      free|\n",
      "|100004|Submit Downgrade| paid|      free|\n",
      "|100004|Submit Downgrade| paid|      free|\n",
      "|100008|Submit Downgrade| paid|      free|\n",
      "|100009|Submit Downgrade| paid|      free|\n",
      "+------+----------------+-----+----------+\n",
      "only showing top 5 rows\n",
      "\n"
     ]
    }
   ],
   "source": [
    "# This query add a new column to each row where new column (lead_level) is level of the next entry for each user\n",
    "# For the users who churned from paid to free, level == 'paid' and level_level=='free'\n",
    "\n",
    "query=\"\"\" \n",
    "select userId,page,level,lead_level\n",
    "from\n",
    "(select userId,page,level,lead(level) over (partition by userId order by ts) as lead_level\n",
    "from spotify\n",
    "where userId !=''\n",
    "order by userId) sub\n",
    "where level='paid' and lead_level='free'\n",
    "\"\"\"\n",
    "spark.sql(query).show(5)"
   ]
  },
  {
   "cell_type": "code",
   "execution_count": 16,
   "metadata": {},
   "outputs": [
    {
     "name": "stdout",
     "output_type": "stream",
     "text": [
      "+-------+----------------+\n",
      "|userIds|distinct_userIds|\n",
      "+-------+----------------+\n",
      "|     62|              49|\n",
      "+-------+----------------+\n",
      "\n"
     ]
    }
   ],
   "source": [
    "# This query will give the distinct users who changed from free to paid\n",
    "\n",
    "query=\"\"\" \n",
    "select count(userId) userIds, count(distinct userId) distinct_userIds\n",
    "from\n",
    "(select userId,level,lead(level) over (partition by userId order by ts) as lead_level\n",
    "from spotify\n",
    "where userId !=''\n",
    "order by userId) sub\n",
    "where level='paid' and lead_level='free'\n",
    "\"\"\"\n",
    "spark.sql(query).show()"
   ]
  },
  {
   "cell_type": "markdown",
   "metadata": {},
   "source": [
    "Distinct userIds are smaller than userIds. This means some of the users might have gone back and forth between paid and free few times"
   ]
  },
  {
   "cell_type": "code",
   "execution_count": 17,
   "metadata": {},
   "outputs": [
    {
     "name": "stdout",
     "output_type": "stream",
     "text": [
      "+------+\n",
      "|userId|\n",
      "+------+\n",
      "|100009|\n",
      "|100012|\n",
      "|100025|\n",
      "|200011|\n",
      "|200020|\n",
      "+------+\n",
      "\n"
     ]
    }
   ],
   "source": [
    "# This query check whether the 5 user who changed from paid to free and then cancelled is in our current category\n",
    "\n",
    "query=\"\"\" \n",
    "select userId\n",
    "from \n",
    "(select userId\n",
    "from\n",
    "(select userId,level,lead(level) over (partition by userId order by ts) as lead_level\n",
    "from spotify\n",
    "where userId !=''\n",
    "order by userId) sub\n",
    "where level='paid' and lead_level='free' ) t1\n",
    "where userId in (100025,100009,100012,200020,200011)\n",
    "\"\"\"\n",
    "spark.sql(query).show()"
   ]
  },
  {
   "cell_type": "markdown",
   "metadata": {},
   "source": [
    "Yes ! They are all in the list of users who changed from free to paid"
   ]
  },
  {
   "cell_type": "markdown",
   "metadata": {},
   "source": [
    "### Combine two types of churned users"
   ]
  },
  {
   "cell_type": "code",
   "execution_count": 18,
   "metadata": {},
   "outputs": [
    {
     "name": "stdout",
     "output_type": "stream",
     "text": [
      "+------+\n",
      "|userID|\n",
      "+------+\n",
      "|    51|\n",
      "|    54|\n",
      "|100014|\n",
      "|   101|\n",
      "|    11|\n",
      "+------+\n",
      "only showing top 5 rows\n",
      "\n"
     ]
    }
   ],
   "source": [
    "query=\"\"\" \n",
    "select userID\n",
    "from spotify\n",
    "where page='Cancellation Confirmation' and level='paid' and userId !=''\n",
    "\n",
    "Union\n",
    "\n",
    "select distinct userId\n",
    "from\n",
    "(select userId,level,lead(level) over (partition by userId order by ts) as lead_level\n",
    "from spotify\n",
    "where userId !=''\n",
    "order by userId) sub\n",
    "where level='paid' and lead_level='free'\n",
    "\n",
    "\"\"\"\n",
    "churned_user_ids=spark.sql(query)\n",
    "churned_user_ids.show(5)"
   ]
  },
  {
   "cell_type": "code",
   "execution_count": 19,
   "metadata": {},
   "outputs": [
    {
     "data": {
      "text/plain": [
       "76"
      ]
     },
     "execution_count": 19,
     "metadata": {},
     "output_type": "execute_result"
    }
   ],
   "source": [
    "churned_user_ids.count()"
   ]
  },
  {
   "cell_type": "code",
   "execution_count": 20,
   "metadata": {},
   "outputs": [
    {
     "data": {
      "text/plain": [
       "76"
      ]
     },
     "execution_count": 20,
     "metadata": {},
     "output_type": "execute_result"
    }
   ],
   "source": [
    "churned_user_ids.distinct().count()"
   ]
  },
  {
   "cell_type": "code",
   "execution_count": 21,
   "metadata": {},
   "outputs": [],
   "source": [
    "churned_user_ids.createOrReplaceTempView('churned_user_ids')"
   ]
  },
  {
   "cell_type": "markdown",
   "metadata": {},
   "source": [
    "# 3. Prepare Data"
   ]
  },
  {
   "cell_type": "markdown",
   "metadata": {},
   "source": [
    "###  Data Cleaning\n",
    "\n",
    "Free users might have some restrictions compared to paid users. Some of the free users might be trial users who has no intention to continue. So I will keep only paid users and aim is to predict who will churn based on their behaviour in paid accounts"
   ]
  },
  {
   "cell_type": "code",
   "execution_count": 22,
   "metadata": {},
   "outputs": [
    {
     "name": "stdout",
     "output_type": "stream",
     "text": [
      "+-----+----------+------+\n",
      "|level|      auth| count|\n",
      "+-----+----------+------+\n",
      "| free|Logged Out|  2520|\n",
      "| free|     Guest|    97|\n",
      "| paid|Logged Out|  5729|\n",
      "| paid| Cancelled|    31|\n",
      "| free| Logged In| 55700|\n",
      "| free| Cancelled|    21|\n",
      "| paid| Logged In|222402|\n",
      "+-----+----------+------+\n",
      "\n"
     ]
    }
   ],
   "source": [
    "# Let's look at the count based on different categories\n",
    "\n",
    "query=\"\"\" \n",
    "select level,auth,count(*)count\n",
    "from spotify\n",
    "group by level,auth\n",
    "\"\"\"\n",
    "spark.sql(query).show()"
   ]
  },
  {
   "cell_type": "code",
   "execution_count": 23,
   "metadata": {},
   "outputs": [
    {
     "name": "stdout",
     "output_type": "stream",
     "text": [
      "+--------+\n",
      "|count(1)|\n",
      "+--------+\n",
      "|  222402|\n",
      "+--------+\n",
      "\n"
     ]
    }
   ],
   "source": [
    "# Confirm the entries in the paid and Loggged In categories\n",
    "query=\"\"\" \n",
    "select count(*)\n",
    "from spotify\n",
    "where level='paid' and auth='Logged In'\n",
    "\"\"\"\n",
    "spark.sql(query).show()"
   ]
  },
  {
   "cell_type": "code",
   "execution_count": 24,
   "metadata": {},
   "outputs": [],
   "source": [
    "# Create a temp table \n",
    "\n",
    "query=\"\"\" \n",
    "select *\n",
    "from spotify\n",
    "where level='paid' and auth='Logged In'\n",
    "\"\"\"\n",
    "temp=spark.sql(query)\n",
    "temp.createOrReplaceTempView('temp')"
   ]
  },
  {
   "cell_type": "code",
   "execution_count": 25,
   "metadata": {},
   "outputs": [
    {
     "name": "stdout",
     "output_type": "stream",
     "text": [
      "+------+-----+\n",
      "|userId|count|\n",
      "+------+-----+\n",
      "|    26|    1|\n",
      "+------+-----+\n",
      "\n"
     ]
    }
   ],
   "source": [
    "# How many users have less than 25 entries\n",
    "query=\"\"\" \n",
    "Select userId,count\n",
    "from\n",
    "(Select userId,count(*) count\n",
    "from temp\n",
    "group by userId) sub\n",
    "where count<25\n",
    "\"\"\"\n",
    "spark.sql(query).show()"
   ]
  },
  {
   "cell_type": "markdown",
   "metadata": {},
   "source": [
    "### Create the final cleaned dataset"
   ]
  },
  {
   "cell_type": "code",
   "execution_count": 26,
   "metadata": {},
   "outputs": [
    {
     "name": "stdout",
     "output_type": "stream",
     "text": [
      "+--------------+---------+---------+------+-------------+--------+---------+-----+---------------+------+--------+-------------+---------+-----------------+------+-------------+--------------------+------+\n",
      "|        artist|     auth|firstName|gender|itemInSession|lastName|   length|level|       location|method|    page| registration|sessionId|             song|status|           ts|           userAgent|userId|\n",
      "+--------------+---------+---------+------+-------------+--------+---------+-----+---------------+------+--------+-------------+---------+-----------------+------+-------------+--------------------+------+\n",
      "|Martha Tilston|Logged In|    Colin|     M|           50| Freeman|277.89016| paid|Bakersfield, CA|   PUT|NextSong|1538173362000|       29|        Rockpools|   200|1538352117000|Mozilla/5.0 (Wind...|    30|\n",
      "|  Adam Lambert|Logged In|    Colin|     M|           51| Freeman| 282.8273| paid|Bakersfield, CA|   PUT|NextSong|1538173362000|       29|Time For Miracles|   200|1538352394000|Mozilla/5.0 (Wind...|    30|\n",
      "+--------------+---------+---------+------+-------------+--------+---------+-----+---------------+------+--------+-------------+---------+-----------------+------+-------------+--------------------+------+\n",
      "only showing top 2 rows\n",
      "\n"
     ]
    }
   ],
   "source": [
    "query=\"\"\" \n",
    "select *\n",
    "from spotify\n",
    "where level='paid' and auth='Logged In' and userId not in (\n",
    "Select userId\n",
    "from\n",
    "(Select userId,count(*) count\n",
    "from temp\n",
    "group by userId) sub\n",
    "where count<25)\n",
    "\"\"\"\n",
    "spotify_cleaned=spark.sql(query)\n",
    "spotify_cleaned.show(2)"
   ]
  },
  {
   "cell_type": "code",
   "execution_count": 27,
   "metadata": {},
   "outputs": [
    {
     "data": {
      "text/plain": [
       "222401"
      ]
     },
     "execution_count": 27,
     "metadata": {},
     "output_type": "execute_result"
    }
   ],
   "source": [
    "spotify_cleaned.count()"
   ]
  },
  {
   "cell_type": "code",
   "execution_count": 28,
   "metadata": {},
   "outputs": [
    {
     "name": "stdout",
     "output_type": "stream",
     "text": [
      "auth\n",
      "0\n",
      "level\n",
      "0\n",
      "sessionId\n",
      "0\n",
      "userId\n",
      "0\n"
     ]
    }
   ],
   "source": [
    "# Let's check whether there are any null values in any column\n",
    "for col in ['auth','level','sessionId','userId']:\n",
    "    print(col)\n",
    "    print(spotify_cleaned.filter(spotify_cleaned[col].isNull()).count())"
   ]
  },
  {
   "cell_type": "code",
   "execution_count": 29,
   "metadata": {},
   "outputs": [],
   "source": [
    "# Create a temporary table for the final cleaned dta\n",
    "spotify_cleaned.createOrReplaceTempView('spotify_cleaned')"
   ]
  },
  {
   "cell_type": "code",
   "execution_count": 30,
   "metadata": {},
   "outputs": [
    {
     "name": "stdout",
     "output_type": "stream",
     "text": [
      "+-------------+\n",
      "|churned_users|\n",
      "+-------------+\n",
      "|           76|\n",
      "+-------------+\n",
      "\n"
     ]
    }
   ],
   "source": [
    "# Count the number of churned users in the data\n",
    "query=\"\"\" \n",
    "select count(distinct userId) churned_users\n",
    "from spotify_cleaned\n",
    "where userId in (select * from churned_user_ids)\n",
    "\n",
    "\"\"\"\n",
    "spark.sql(query).show()"
   ]
  },
  {
   "cell_type": "code",
   "execution_count": 31,
   "metadata": {},
   "outputs": [
    {
     "name": "stdout",
     "output_type": "stream",
     "text": [
      "+-----------------+\n",
      "|not_churned_users|\n",
      "+-----------------+\n",
      "|               88|\n",
      "+-----------------+\n",
      "\n"
     ]
    }
   ],
   "source": [
    "# Count the number of non-churned users in the data\n",
    "\n",
    "query=\"\"\" \n",
    "select count(distinct userId) not_churned_users\n",
    "from spotify_cleaned\n",
    "where userId not in (select * from churned_user_ids)\n",
    "\n",
    "\"\"\"\n",
    "spark.sql(query).show()"
   ]
  },
  {
   "cell_type": "markdown",
   "metadata": {},
   "source": [
    "### Data Exploration and Feature Engineering\n",
    "\n",
    "Now I can divide the dataset into two: one belonging to the churned users and other belonging to the non-churned users. Then I could compare various features between two groups and see whether they will help to distinguish two types of users"
   ]
  },
  {
   "cell_type": "code",
   "execution_count": 32,
   "metadata": {},
   "outputs": [],
   "source": [
    "# Let's create two separate dataframe: One for churned and another for non-churned users\n",
    "\n",
    "query=\"\"\" \n",
    "select *\n",
    "from spotify_cleaned\n",
    "where userId in (select * from churned_user_ids)\n",
    "\n",
    "\"\"\"\n",
    "spotify_churn=spark.sql(query)\n",
    "spotify_churn.createOrReplaceTempView('spotify_churn')\n",
    "\n",
    "query=\"\"\" \n",
    "select *\n",
    "from spotify_cleaned\n",
    "where userId not in (select * from churned_user_ids)\n",
    "\"\"\"\n",
    "spotify_no_churn=spark.sql(query)\n",
    "spotify_no_churn.createOrReplaceTempView('spotify_no_churn')"
   ]
  },
  {
   "cell_type": "markdown",
   "metadata": {},
   "source": [
    "### Define the churned users"
   ]
  },
  {
   "cell_type": "code",
   "execution_count": 33,
   "metadata": {},
   "outputs": [
    {
     "name": "stdout",
     "output_type": "stream",
     "text": [
      "+------+-----+\n",
      "|userId|Churn|\n",
      "+------+-----+\n",
      "|    19|    0|\n",
      "|300007|    1|\n",
      "|200007|    0|\n",
      "|    25|    1|\n",
      "|    50|    0|\n",
      "+------+-----+\n",
      "only showing top 5 rows\n",
      "\n"
     ]
    }
   ],
   "source": [
    "query=\"\"\" \n",
    "Select distinct userId,Case When userID is not null then 1 End as Churn\n",
    "from spotify_cleaned\n",
    "Where userId in (select userId from churned_user_ids) \n",
    "Union \n",
    "Select distinct userId,Case When userID is not null then 0 End as Churn\n",
    "from spotify_cleaned\n",
    "Where userId not in (select userId from churned_user_ids) \n",
    "\"\"\"\n",
    "user_churn=spark.sql(query)\n",
    "user_churn.show(5)\n"
   ]
  },
  {
   "cell_type": "code",
   "execution_count": 34,
   "metadata": {},
   "outputs": [
    {
     "data": {
      "text/plain": [
       "164"
      ]
     },
     "execution_count": 34,
     "metadata": {},
     "output_type": "execute_result"
    }
   ],
   "source": [
    "user_churn.count()"
   ]
  },
  {
   "cell_type": "markdown",
   "metadata": {},
   "source": [
    "### 1.skip_ratio\n",
    "\n",
    "This is the number of times a user skipped a song before 120 seconds as a fraction of total number of entries for that user. My assumption is that if a user doesn't like the song, he will do this often"
   ]
  },
  {
   "cell_type": "code",
   "execution_count": 35,
   "metadata": {},
   "outputs": [],
   "source": [
    "# skip_ratio for non-churned users\n",
    "\n",
    "query=\"\"\" \n",
    "With t3 as\n",
    "(With t1 as (\n",
    "select userId userId1,count(*) cn1 from spotify_no_churn group by userId order by userId\n",
    "),\n",
    " t2 as (\n",
    "select userId userId2,count(*) cn2 from spotify_no_churn where length<120 group by userId order by userId\n",
    ")\n",
    "Select *\n",
    "from t1\n",
    "left Join t2\n",
    "on t2.userId2=t1.userId1)\n",
    "Select userId1 as userId,cn2/cn1 skip_ratio\n",
    "from t3\n",
    "order by skip_ratio desc\n",
    "\n",
    "\"\"\"\n",
    "user_skip_ratio_nc=spark.sql(query).toPandas()"
   ]
  },
  {
   "cell_type": "code",
   "execution_count": 36,
   "metadata": {},
   "outputs": [],
   "source": [
    "# skip_ratio for Churned users\n",
    "\n",
    "query=\"\"\" \n",
    "With t3 as\n",
    "(With t1 as (\n",
    "select userId userId1,count(*) cn1 from spotify_churn group by userId order by userId\n",
    "),\n",
    " t2 as (\n",
    "select userId userId2,count(*) cn2 from spotify_churn where length<120 group by userId order by userId\n",
    ")\n",
    "Select *\n",
    "from t1\n",
    "left Join t2\n",
    "on t2.userId2=t1.userId1)\n",
    "Select userId1 as userId,cn2/cn1 skip_ratio\n",
    "from t3\n",
    "order by skip_ratio desc\n",
    "\n",
    "\"\"\"\n",
    "user_skip_ratio_c=spark.sql(query).toPandas()"
   ]
  },
  {
   "cell_type": "code",
   "execution_count": 37,
   "metadata": {},
   "outputs": [
    {
     "name": "stderr",
     "output_type": "stream",
     "text": [
      "No handles with labels found to put in legend.\n"
     ]
    },
    {
     "data": {
      "image/png": "[encoded data removed]",
      "text/plain": [
       "<Figure size 432x288 with 1 Axes>"
      ]
     },
     "metadata": {
      "needs_background": "light"
     },
     "output_type": "display_data"
    }
   ],
   "source": [
    "plt.boxplot([user_skip_ratio_nc['skip_ratio'].dropna(),user_skip_ratio_c['skip_ratio'].dropna()],labels=['non-churned', 'churned'])\n",
    "plt.legend(loc='upper right')\n",
    "plt.ylabel('skip ratio')\n",
    "plt.show()"
   ]
  },
  {
   "cell_type": "code",
   "execution_count": 38,
   "metadata": {},
   "outputs": [
    {
     "name": "stdout",
     "output_type": "stream",
     "text": [
      "+------+--------------------+\n",
      "|userId|          skip_ratio|\n",
      "+------+--------------------+\n",
      "|    55| 0.06896551724137931|\n",
      "|300005| 0.03939393939393939|\n",
      "|    79|0.036585365853658534|\n",
      "|    93| 0.03614457831325301|\n",
      "|300004| 0.03289473684210526|\n",
      "+------+--------------------+\n",
      "only showing top 5 rows\n",
      "\n"
     ]
    }
   ],
   "source": [
    "# Create dataframe with userId and skip ratio for all the dataset\n",
    "\n",
    "query=\"\"\" \n",
    "With t3 as\n",
    "(With t1 as (\n",
    "select userId userId1,count(*) cn1 from spotify_cleaned group by userId order by userId\n",
    "),\n",
    " t2 as (\n",
    "select userId userId2,count(*) cn2 from spotify_cleaned where length<120 group by userId order by userId\n",
    ")\n",
    "Select *\n",
    "from t1\n",
    "left Join t2\n",
    "on t2.userId2=t1.userId1)\n",
    "Select userId1 as userId,cn2/cn1 skip_ratio\n",
    "from t3\n",
    "order by skip_ratio desc\n",
    "\n",
    "\"\"\"\n",
    "user_skip_ratio=spark.sql(query)\n",
    "user_skip_ratio=user_skip_ratio.fillna(0)\n",
    "user_skip_ratio.show(5)"
   ]
  },
  {
   "cell_type": "code",
   "execution_count": 39,
   "metadata": {},
   "outputs": [
    {
     "data": {
      "text/plain": [
       "164"
      ]
     },
     "execution_count": 39,
     "metadata": {},
     "output_type": "execute_result"
    }
   ],
   "source": [
    "user_skip_ratio.count()"
   ]
  },
  {
   "cell_type": "markdown",
   "metadata": {},
   "source": [
    "### 2. Thumbs up/Thumbs down ratio\n",
    "\n",
    "Ratio of Thumbs up to Thumbs down could be an indicator the user satisfaction"
   ]
  },
  {
   "cell_type": "code",
   "execution_count": 40,
   "metadata": {},
   "outputs": [],
   "source": [
    "# Thumbs up/Thumbs down ratio for non-churned users\n",
    "\n",
    "query=\"\"\" \n",
    "With t3 as\n",
    "(With t1 as (\n",
    "select userId userId1,count(*) t_up from spotify_no_churn Where page='Thumbs Up' group by userId order by userId\n",
    "),\n",
    " t2 as (\n",
    "select userId userId2,count(*) t_down from spotify_no_churn where page='Thumbs Down' group by userId order by userId\n",
    ")\n",
    "Select *\n",
    "from t1\n",
    "left Join t2\n",
    "on t2.userId2=t1.userId1)\n",
    "Select userId1 as userId,t_up/t_down updown_ratio\n",
    "from t3\n",
    "order by updown_ratio desc\n",
    "\n",
    "\"\"\"\n",
    "updown_ratio_nc=spark.sql(query).toPandas()"
   ]
  },
  {
   "cell_type": "code",
   "execution_count": 41,
   "metadata": {},
   "outputs": [
    {
     "data": {
      "text/plain": [
       "(87, 2)"
      ]
     },
     "execution_count": 41,
     "metadata": {},
     "output_type": "execute_result"
    }
   ],
   "source": [
    "updown_ratio_nc.shape"
   ]
  },
  {
   "cell_type": "code",
   "execution_count": 42,
   "metadata": {},
   "outputs": [],
   "source": [
    "# Thumbs up/Thumbs down ratio for churned users\n",
    "query=\"\"\" \n",
    "With t3 as\n",
    "(With t1 as (\n",
    "select userId userId1,count(*) t_up from spotify_churn Where page='Thumbs Up' group by userId order by userId\n",
    "),\n",
    " t2 as (\n",
    "select userId userId2,count(*) t_down from spotify_churn where page='Thumbs Down' group by userId order by userId\n",
    ")\n",
    "Select *\n",
    "from t1\n",
    "left Join t2\n",
    "on t2.userId2=t1.userId1)\n",
    "Select userId1 as userId,t_up/t_down updown_ratio\n",
    "from t3\n",
    "order by updown_ratio desc\n",
    "\n",
    "\"\"\"\n",
    "updown_ratio_c=spark.sql(query).toPandas()"
   ]
  },
  {
   "cell_type": "code",
   "execution_count": 43,
   "metadata": {},
   "outputs": [
    {
     "data": {
      "text/plain": [
       "(76, 2)"
      ]
     },
     "execution_count": 43,
     "metadata": {},
     "output_type": "execute_result"
    }
   ],
   "source": [
    "updown_ratio_c.shape"
   ]
  },
  {
   "cell_type": "code",
   "execution_count": 44,
   "metadata": {},
   "outputs": [
    {
     "data": {
      "image/png": "[encoded data removed]",
      "text/plain": [
       "<Figure size 432x288 with 1 Axes>"
      ]
     },
     "metadata": {
      "needs_background": "light"
     },
     "output_type": "display_data"
    }
   ],
   "source": [
    "plt.boxplot([updown_ratio_nc['updown_ratio'].dropna(),updown_ratio_c['updown_ratio'].dropna()],labels=['no-churn','churn'])\n",
    "plt.ylabel('Thumbs up/Thumbs down ratio')\n",
    "plt.show()"
   ]
  },
  {
   "cell_type": "code",
   "execution_count": 45,
   "metadata": {},
   "outputs": [
    {
     "name": "stdout",
     "output_type": "stream",
     "text": [
      "+------+------------+\n",
      "|userId|updown_ratio|\n",
      "+------+------------+\n",
      "|   155|        24.5|\n",
      "|    18|        20.0|\n",
      "|300013|        19.0|\n",
      "|300020|        18.0|\n",
      "|100015|        14.0|\n",
      "+------+------------+\n",
      "only showing top 5 rows\n",
      "\n"
     ]
    }
   ],
   "source": [
    "# Create dataframe with userId and Thumbs up/Thumbs down ratio for all the dataset\n",
    "\n",
    "\n",
    "query=\"\"\" \n",
    "With t3 as\n",
    "(With t1 as (\n",
    "select userId userId1,count(*) t_up from spotify_cleaned Where page='Thumbs Up' group by userId order by userId\n",
    "),\n",
    " t2 as (\n",
    "select userId userId2,count(*) t_down from spotify_cleaned where page='Thumbs Down' group by userId order by userId\n",
    ")\n",
    "Select *\n",
    "from t1\n",
    "left Join t2\n",
    "on t2.userId2=t1.userId1)\n",
    "Select userId1 as userId,t_up/t_down updown_ratio\n",
    "from t3\n",
    "order by updown_ratio desc\n",
    "\n",
    "\"\"\"\n",
    "user_updown_ratio=spark.sql(query)\n",
    "user_updown_ratio=user_updown_ratio.fillna(0)\n",
    "user_updown_ratio.show(5)"
   ]
  },
  {
   "cell_type": "code",
   "execution_count": 46,
   "metadata": {},
   "outputs": [
    {
     "data": {
      "text/plain": [
       "163"
      ]
     },
     "execution_count": 46,
     "metadata": {},
     "output_type": "execute_result"
    }
   ],
   "source": [
    "user_updown_ratio.count()"
   ]
  },
  {
   "cell_type": "markdown",
   "metadata": {},
   "source": [
    "###  3. Page counts\n",
    "\n",
    "Other than Thumbs up / Thumbs down ratio,  categories in page column could be interesting as well"
   ]
  },
  {
   "cell_type": "code",
   "execution_count": 47,
   "metadata": {},
   "outputs": [],
   "source": [
    "query=\"\"\" \n",
    "\n",
    "With t3 as (\n",
    "With t1 as (\n",
    "Select userId Id1,count(*) user_count\n",
    "from spotify_no_churn group by userId),\n",
    "t2 as\n",
    "(Select userId Id2,page,count(*) page_count\n",
    "from spotify_no_churn\n",
    "group by userId,page)\n",
    "Select *\n",
    "from t1\n",
    "join t2\n",
    "on t2.Id2=t1.Id1)\n",
    "Select Id1 as userId,page,page_count/user_count as page_count_frac\n",
    "from t3\n",
    "\"\"\"\n",
    "user_page_nc=spark.sql(query)\n",
    "user_page_nc=user_page_nc.groupBy('userId').pivot('page').sum('page_count_frac').toPandas()"
   ]
  },
  {
   "cell_type": "code",
   "execution_count": 48,
   "metadata": {},
   "outputs": [],
   "source": [
    "query=\"\"\" \n",
    "\n",
    "With t3 as (\n",
    "With t1 as (\n",
    "Select userId Id1,count(*) user_count\n",
    "from spotify_churn group by userId),\n",
    "t2 as\n",
    "(Select userId Id2,page,count(*) page_count\n",
    "from spotify_churn\n",
    "group by userId,page)\n",
    "Select *\n",
    "from t1\n",
    "join t2\n",
    "on t2.Id2=t1.Id1)\n",
    "Select Id1 as userId,page,page_count/user_count as page_count_frac\n",
    "from t3\n",
    "\"\"\"\n",
    "user_page_c=spark.sql(query)\n",
    "user_page_c=user_page_c.groupBy('userId').pivot('page').sum('page_count_frac').toPandas()"
   ]
  },
  {
   "cell_type": "code",
   "execution_count": 49,
   "metadata": {},
   "outputs": [
    {
     "data": {
      "image/png": "[encoded data removed]",
      "text/plain": [
       "<Figure size 432x288 with 1 Axes>"
      ]
     },
     "metadata": {
      "needs_background": "light"
     },
     "output_type": "display_data"
    },
    {
     "data": {
      "image/png": "[encoded data removed]",
      "text/plain": [
       "<Figure size 432x288 with 1 Axes>"
      ]
     },
     "metadata": {
      "needs_background": "light"
     },
     "output_type": "display_data"
    },
    {
     "data": {
      "image/png": "[encoded data removed]",
      "text/plain": [
       "<Figure size 432x288 with 1 Axes>"
      ]
     },
     "metadata": {
      "needs_background": "light"
     },
     "output_type": "display_data"
    },
    {
     "data": {
      "image/png": "[encoded data removed]",
      "text/plain": [
       "<Figure size 432x288 with 1 Axes>"
      ]
     },
     "metadata": {
      "needs_background": "light"
     },
     "output_type": "display_data"
    },
    {
     "data": {
      "image/png": "[encoded data removed]",
      "text/plain": [
       "<Figure size 432x288 with 1 Axes>"
      ]
     },
     "metadata": {
      "needs_background": "light"
     },
     "output_type": "display_data"
    },
    {
     "data": {
      "image/png": "[encoded data removed]",
      "text/plain": [
       "<Figure size 432x288 with 1 Axes>"
      ]
     },
     "metadata": {
      "needs_background": "light"
     },
     "output_type": "display_data"
    },
    {
     "data": {
      "image/png": "[encoded data removed]",
      "text/plain": [
       "<Figure size 432x288 with 1 Axes>"
      ]
     },
     "metadata": {
      "needs_background": "light"
     },
     "output_type": "display_data"
    },
    {
     "data": {
      "image/png": "[encoded data removed]",
      "text/plain": [
       "<Figure size 432x288 with 1 Axes>"
      ]
     },
     "metadata": {
      "needs_background": "light"
     },
     "output_type": "display_data"
    },
    {
     "data": {
      "image/png": "[encoded data removed]",
      "text/plain": [
       "<Figure size 432x288 with 1 Axes>"
      ]
     },
     "metadata": {
      "needs_background": "light"
     },
     "output_type": "display_data"
    },
    {
     "data": {
      "image/png": "[encoded data removed]",
      "text/plain": [
       "<Figure size 432x288 with 1 Axes>"
      ]
     },
     "metadata": {
      "needs_background": "light"
     },
     "output_type": "display_data"
    },
    {
     "data": {
      "image/png": "[encoded data removed]",
      "text/plain": [
       "<Figure size 432x288 with 1 Axes>"
      ]
     },
     "metadata": {
      "needs_background": "light"
     },
     "output_type": "display_data"
    },
    {
     "data": {
      "image/png": "[encoded data removed]",
      "text/plain": [
       "<Figure size 432x288 with 1 Axes>"
      ]
     },
     "metadata": {
      "needs_background": "light"
     },
     "output_type": "display_data"
    },
    {
     "data": {
      "image/png": "[encoded data removed]",
      "text/plain": [
       "<Figure size 432x288 with 1 Axes>"
      ]
     },
     "metadata": {
      "needs_background": "light"
     },
     "output_type": "display_data"
    },
    {
     "data": {
      "image/png": "[encoded data removed]",
      "text/plain": [
       "<Figure size 432x288 with 1 Axes>"
      ]
     },
     "metadata": {
      "needs_background": "light"
     },
     "output_type": "display_data"
    }
   ],
   "source": [
    "# Following plots describe the different categories of page for churned and non-churned users\n",
    "\n",
    "for col in user_page_c.columns:\n",
    "    if col in user_page_nc.columns:\n",
    "        if col!='userId':\n",
    "            plt.boxplot([user_page_nc[col].dropna(),user_page_c[col].dropna()],labels=['no-churn','churn'])\n",
    "            plt.title(col)\n",
    "            plt.show()\n",
    "plt.show()"
   ]
  },
  {
   "cell_type": "markdown",
   "metadata": {},
   "source": [
    "I have selected three pages categories : NextSong,Roll Advert and Error for further Analysis. Categories like Downgrade shouldn't be selected as they are directly correlated with cancellation"
   ]
  },
  {
   "cell_type": "code",
   "execution_count": 50,
   "metadata": {},
   "outputs": [
    {
     "name": "stdout",
     "output_type": "stream",
     "text": [
      "+------+--------------------+------------------+--------------------+\n",
      "|userId|               Error|          NextSong|         Roll Advert|\n",
      "+------+--------------------+------------------+--------------------+\n",
      "|200002|                 0.0| 0.847457627118644|                 0.0|\n",
      "|    51|4.060089321965083E-4| 0.857084855866829|                 0.0|\n",
      "|   124|0.001243523316062176|0.8453886010362694|8.290155440414508E-4|\n",
      "|    54|3.498950314905528E-4|0.8404478656403079|0.001049685094471...|\n",
      "|    15| 8.77963125548727E-4|0.8402107111501317|4.389815627743635E-4|\n",
      "+------+--------------------+------------------+--------------------+\n",
      "only showing top 5 rows\n",
      "\n"
     ]
    }
   ],
   "source": [
    "query=\"\"\" \n",
    "\n",
    "With t3 as (\n",
    "With t1 as (\n",
    "Select userId Id1,count(*) user_count\n",
    "from spotify_cleaned group by userId),\n",
    "t2 as\n",
    "(Select userId Id2,page,count(*) page_count\n",
    "from spotify_cleaned\n",
    "group by userId,page)\n",
    "Select *\n",
    "from t1\n",
    "join t2\n",
    "on t2.Id2=t1.Id1)\n",
    "Select Id1 as userId,page,page_count/user_count as page_count_frac\n",
    "from t3\n",
    "\"\"\"\n",
    "user_page_count=spark.sql(query)\n",
    "user_page_count=user_page_count.groupBy('userId').pivot('page').sum('page_count_frac')\n",
    "user_page_count=user_page_count.select(['userId','Error','NextSong','Roll Advert'])\n",
    "user_page_count=user_page_count.fillna(0)\n",
    "user_page_count.show(5)"
   ]
  },
  {
   "cell_type": "code",
   "execution_count": 51,
   "metadata": {},
   "outputs": [
    {
     "data": {
      "text/plain": [
       "164"
      ]
     },
     "execution_count": 51,
     "metadata": {},
     "output_type": "execute_result"
    }
   ],
   "source": [
    "user_page_count.count()"
   ]
  },
  {
   "cell_type": "markdown",
   "metadata": {},
   "source": [
    "###  4.Top 10 artist fraction\n",
    "\n",
    "I believe that dedicated music fans have favourite artists. And the presence of songs of their favourite artist's is something that make customers happy. So I calculated the total entries of top 10 artists for each user and divided by the total of entries for the same user"
   ]
  },
  {
   "cell_type": "code",
   "execution_count": 52,
   "metadata": {},
   "outputs": [],
   "source": [
    "# top 10 artist fraction for non-churned users\n",
    "query=\"\"\" \n",
    "\n",
    "With final_table as\n",
    "(With t1 as (\n",
    "Select userId Id1,count(*) total_count\n",
    "from spotify_no_churn group by userId\n",
    "),\n",
    "t2 as (\n",
    "\n",
    "Select userId Id2,sum(cn) sum_top3\n",
    "from\n",
    "(select * from\n",
    "(select userId,artist,cn,\n",
    "row_number() over(Partition by userId order by cn desc) as row_num\n",
    "from\n",
    "(Select userId,artist,count(artist) as cn\n",
    "from spotify_no_churn\n",
    "group by userId,artist\n",
    "order by artist,cn desc) sub\n",
    "order by userId) table2\n",
    "where row_num<=10\n",
    "order by userId,row_num)t3\n",
    "group by userId )\n",
    "\n",
    "Select *\n",
    "from t1\n",
    "join t2\n",
    "on t2.Id2=t1.Id1)\n",
    "\n",
    "Select Id1,sum_top3/total_count top10_frac\n",
    "from final_table\n",
    "order by top10_frac desc\n",
    "\n",
    "\"\"\"\n",
    "top10_nc=spark.sql(query).toPandas()"
   ]
  },
  {
   "cell_type": "code",
   "execution_count": 53,
   "metadata": {},
   "outputs": [],
   "source": [
    "# top 10 artist fraction for churned users\n",
    "\n",
    "query=\"\"\" \n",
    "\n",
    "With final_table as\n",
    "(With t1 as (\n",
    "Select userId Id1,count(*) total_count\n",
    "from spotify_churn group by userId\n",
    "),\n",
    "t2 as (\n",
    "\n",
    "Select userId Id2,sum(cn) sum_top3\n",
    "from\n",
    "(select * from\n",
    "(select userId,artist,cn,\n",
    "row_number() over(Partition by userId order by cn desc) as row_num\n",
    "from\n",
    "(Select userId,artist,count(artist) as cn\n",
    "from spotify_churn\n",
    "group by userId,artist\n",
    "order by artist,cn desc) sub\n",
    "order by userId) table2\n",
    "where row_num<=10\n",
    "order by userId,row_num)t3\n",
    "group by userId )\n",
    "\n",
    "Select *\n",
    "from t1\n",
    "join t2\n",
    "on t2.Id2=t1.Id1)\n",
    "\n",
    "Select Id1,sum_top3/total_count top10_frac\n",
    "from final_table\n",
    "order by top10_frac desc\n",
    "\n",
    "\"\"\"\n",
    "top10_c=spark.sql(query).toPandas()"
   ]
  },
  {
   "cell_type": "code",
   "execution_count": 54,
   "metadata": {},
   "outputs": [
    {
     "data": {
      "image/png": "[encoded data removed]",
      "text/plain": [
       "<Figure size 432x288 with 1 Axes>"
      ]
     },
     "metadata": {
      "needs_background": "light"
     },
     "output_type": "display_data"
    }
   ],
   "source": [
    "plt.boxplot([top10_nc['top10_frac'].dropna(),top10_c['top10_frac'].dropna()],labels=['no-churn','churn'])\n",
    "plt.ylabel('Top 10 Artist fraction')\n",
    "plt.show()"
   ]
  },
  {
   "cell_type": "code",
   "execution_count": 55,
   "metadata": {},
   "outputs": [
    {
     "name": "stdout",
     "output_type": "stream",
     "text": [
      "+------+-------------------+\n",
      "|userId|         top10_frac|\n",
      "+------+-------------------+\n",
      "|   122| 0.2777777777777778|\n",
      "|    32|               0.25|\n",
      "|   137|0.18867924528301888|\n",
      "|200007|0.14473684210526316|\n",
      "|300004|0.13157894736842105|\n",
      "+------+-------------------+\n",
      "only showing top 5 rows\n",
      "\n"
     ]
    }
   ],
   "source": [
    "# Create dataframe with userId and Thumbs up/Thumbs down ratio for all the dataset\n",
    "\n",
    "query=\"\"\" \n",
    "\n",
    "With final_table as\n",
    "(With t1 as (\n",
    "Select userId Id1,count(*) total_count\n",
    "from spotify_cleaned group by userId\n",
    "),\n",
    "t2 as (\n",
    "\n",
    "Select userId Id2,sum(cn) sum_top3\n",
    "from\n",
    "(select * from\n",
    "(select userId,artist,cn,\n",
    "row_number() over(Partition by userId order by cn desc) as row_num\n",
    "from\n",
    "(Select userId,artist,count(artist) as cn\n",
    "from spotify_cleaned\n",
    "group by userId,artist\n",
    "order by artist,cn desc) sub\n",
    "order by userId) table2\n",
    "where row_num<=10\n",
    "order by userId,row_num)t3\n",
    "group by userId )\n",
    "\n",
    "Select *\n",
    "from t1\n",
    "join t2\n",
    "on t2.Id2=t1.Id1)\n",
    "\n",
    "Select Id1 as userId,sum_top3/total_count top10_frac\n",
    "from final_table\n",
    "order by top10_frac desc\n",
    "\n",
    "\"\"\"\n",
    "user_top10_artist_frac=spark.sql(query)\n",
    "user_top10_artist_frac=user_top10_artist_frac.fillna(0)\n",
    "user_top10_artist_frac.show(5)"
   ]
  },
  {
   "cell_type": "code",
   "execution_count": 56,
   "metadata": {},
   "outputs": [
    {
     "data": {
      "text/plain": [
       "164"
      ]
     },
     "execution_count": 56,
     "metadata": {},
     "output_type": "execute_result"
    }
   ],
   "source": [
    "user_top10_artist_frac.count()"
   ]
  },
  {
   "cell_type": "markdown",
   "metadata": {},
   "source": [
    "###  5. Distinct artist & songs fraction\n",
    "\n",
    "This calculate the number of distinct artists and songs a user has visited as a fraction of total counts"
   ]
  },
  {
   "cell_type": "code",
   "execution_count": 57,
   "metadata": {},
   "outputs": [],
   "source": [
    "query=\"\"\" \n",
    "Select userId,count( distinct artist)/count(*) distinct_artists ,count( distinct song)/count(*) distinct_songs\n",
    "from spotify_no_churn\n",
    "group by userId\n",
    "order by distinct_artists\n",
    "\"\"\"\n",
    "artist_song_nc=spark.sql(query).toPandas()"
   ]
  },
  {
   "cell_type": "code",
   "execution_count": 58,
   "metadata": {},
   "outputs": [],
   "source": [
    "query=\"\"\" \n",
    "Select userId,count( distinct artist)/count(*) distinct_artists ,count( distinct song)/count(*) distinct_songs\n",
    "from spotify_churn\n",
    "group by userId\n",
    "order by distinct_artists\n",
    "\"\"\"\n",
    "artist_song_c=spark.sql(query).toPandas()"
   ]
  },
  {
   "cell_type": "code",
   "execution_count": 59,
   "metadata": {},
   "outputs": [
    {
     "data": {
      "image/png": "[encoded data removed]",
      "text/plain": [
       "<Figure size 432x288 with 1 Axes>"
      ]
     },
     "metadata": {
      "needs_background": "light"
     },
     "output_type": "display_data"
    }
   ],
   "source": [
    "plt.boxplot([artist_song_nc['distinct_artists'].dropna(),artist_song_c['distinct_artists'].dropna()],labels=['no-churn','churn'])\n",
    "plt.ylabel( 'Distinct Artist fraction')\n",
    "plt.show()"
   ]
  },
  {
   "cell_type": "code",
   "execution_count": 60,
   "metadata": {},
   "outputs": [
    {
     "data": {
      "image/png": "[encoded data removed]",
      "text/plain": [
       "<Figure size 432x288 with 1 Axes>"
      ]
     },
     "metadata": {
      "needs_background": "light"
     },
     "output_type": "display_data"
    }
   ],
   "source": [
    "plt.boxplot([artist_song_nc['distinct_songs'].dropna(),artist_song_c['distinct_songs'].dropna()],labels=['no-churn','churn'])\n",
    "plt.ylabel( 'Distinct songs fraction')\n",
    "plt.show()"
   ]
  },
  {
   "cell_type": "code",
   "execution_count": 61,
   "metadata": {},
   "outputs": [
    {
     "name": "stdout",
     "output_type": "stream",
     "text": [
      "+------+------------------+------------------+\n",
      "|userId|  dist_artist_frac|    dist_song_frac|\n",
      "+------+------------------+------------------+\n",
      "|200002|0.7598870056497176|0.8305084745762712|\n",
      "|    51| 0.562322371092164|0.7527405602923264|\n",
      "+------+------------------+------------------+\n",
      "only showing top 2 rows\n",
      "\n"
     ]
    }
   ],
   "source": [
    "query=\"\"\" \n",
    "Select userId,count( distinct artist)/count(*) dist_artist_frac ,count( distinct song)/count(*) dist_song_frac\n",
    "from spotify_cleaned\n",
    "group by userId\n",
    "\"\"\"\n",
    "user_artist_song_frac=spark.sql(query)\n",
    "user_artist_song_frac.show(2)"
   ]
  },
  {
   "cell_type": "code",
   "execution_count": 62,
   "metadata": {},
   "outputs": [
    {
     "data": {
      "text/plain": [
       "164"
      ]
     },
     "execution_count": 62,
     "metadata": {},
     "output_type": "execute_result"
    }
   ],
   "source": [
    "user_artist_song_frac.count()"
   ]
  },
  {
   "cell_type": "markdown",
   "metadata": {},
   "source": [
    "### 6. number of sessions per active days, active days fraction\n",
    "\n",
    "How many days and how many times a day a user login are important factors to predict the churn. Both these features correlate with activity of the user and active users are less likely to churn. To find the active days fraction, the number of distinct days a user has logged in is determined. This is divided by the difference between minimum and maximum day of a user to get the fraction. To find the sessions per active days, total number of sessions for each user is divided by the number of active days"
   ]
  },
  {
   "cell_type": "code",
   "execution_count": 63,
   "metadata": {},
   "outputs": [],
   "source": [
    "query=\"\"\" \n",
    "Select userId,sessions/active_days session_act_days, active_days/duration act_days_frac\n",
    "from\n",
    "(Select userId,count(sessionId) sessions, count(distinct date_trunc('day',to_timestamp(ts/1000))) active_days,  datediff(to_date(max(date_trunc('day',to_timestamp(ts/1000)))),to_date(min(date_trunc('day',to_timestamp(ts/1000)))))+1 as duration\n",
    "from spotify_no_churn\n",
    "group by userId\n",
    "order by 4 desc) sub\n",
    "\n",
    "\"\"\"\n",
    "user_sessions_nc=spark.sql(query).toPandas()"
   ]
  },
  {
   "cell_type": "code",
   "execution_count": 64,
   "metadata": {},
   "outputs": [],
   "source": [
    "query=\"\"\" \n",
    "Select userId,sessions/active_days session_act_days, active_days/duration act_days_frac\n",
    "from\n",
    "(Select userId,count(sessionId) sessions, count(distinct date_trunc('day',to_timestamp(ts/1000))) active_days,  datediff(to_date(max(date_trunc('day',to_timestamp(ts/1000)))),to_date(min(date_trunc('day',to_timestamp(ts/1000)))))+1 as duration\n",
    "from spotify_churn\n",
    "group by userId\n",
    "order by 4 desc) sub\n",
    "\n",
    "\"\"\"\n",
    "user_sessions_c=spark.sql(query).toPandas()"
   ]
  },
  {
   "cell_type": "code",
   "execution_count": 65,
   "metadata": {},
   "outputs": [
    {
     "data": {
      "image/png": "[encoded data removed]",
      "text/plain": [
       "<Figure size 432x288 with 1 Axes>"
      ]
     },
     "metadata": {
      "needs_background": "light"
     },
     "output_type": "display_data"
    }
   ],
   "source": [
    "plt.boxplot([user_sessions_c['session_act_days'].dropna(),user_sessions_nc['session_act_days'].dropna()],labels=['no-churn','churn'])\n",
    "plt.ylabel('Sessions per active days')\n",
    "plt.show()"
   ]
  },
  {
   "cell_type": "code",
   "execution_count": 66,
   "metadata": {},
   "outputs": [
    {
     "data": {
      "image/png": "[encoded data removed]",
      "text/plain": [
       "<Figure size 432x288 with 1 Axes>"
      ]
     },
     "metadata": {
      "needs_background": "light"
     },
     "output_type": "display_data"
    }
   ],
   "source": [
    "plt.boxplot([user_sessions_c['act_days_frac'].dropna(),user_sessions_nc['act_days_frac'].dropna()],labels=['no-churn','churn'])\n",
    "plt.ylabel('Active days fraction')\n",
    "plt.show()"
   ]
  },
  {
   "cell_type": "code",
   "execution_count": 67,
   "metadata": {},
   "outputs": [
    {
     "name": "stdout",
     "output_type": "stream",
     "text": [
      "+------+------------------+-------------------+\n",
      "|userId|  session_act_days|      act_days_frac|\n",
      "+------+------------------+-------------------+\n",
      "|200023| 101.6470588235294|0.27419354838709675|\n",
      "|    30| 96.42857142857143|0.11290322580645161|\n",
      "|   142| 106.0952380952381| 0.3387096774193548|\n",
      "|   120|102.33333333333333|0.29508196721311475|\n",
      "|   124|134.02777777777777| 0.5901639344262295|\n",
      "+------+------------------+-------------------+\n",
      "only showing top 5 rows\n",
      "\n"
     ]
    }
   ],
   "source": [
    "query=\"\"\" \n",
    "Select userId,sessions/active_days session_act_days, active_days/duration act_days_frac\n",
    "from\n",
    "(Select userId,count(sessionId) sessions, count(distinct date_trunc('day',to_timestamp(ts/1000))) active_days,  datediff(to_date(max(date_trunc('day',to_timestamp(ts/1000)))),to_date(min(date_trunc('day',to_timestamp(ts/1000)))))+1 as duration\n",
    "from spotify_cleaned\n",
    "group by userId\n",
    "order by 4 desc) sub\n",
    "\n",
    "\"\"\"\n",
    "user_sessions=spark.sql(query)\n",
    "user_sessions.show(5)"
   ]
  },
  {
   "cell_type": "code",
   "execution_count": 68,
   "metadata": {},
   "outputs": [
    {
     "data": {
      "text/plain": [
       "164"
      ]
     },
     "execution_count": 68,
     "metadata": {},
     "output_type": "execute_result"
    }
   ],
   "source": [
    "user_sessions.count()"
   ]
  },
  {
   "cell_type": "markdown",
   "metadata": {},
   "source": [
    "###  7. Average items per session\n",
    "\n",
    "This is roughly proportional to the duration of each session. For each user, average of items in each sessions is determined. Active users might have more items per session"
   ]
  },
  {
   "cell_type": "code",
   "execution_count": 69,
   "metadata": {},
   "outputs": [],
   "source": [
    "query=\"\"\" \n",
    "Select userId,avg(items) avg_items_sessions\n",
    "from\n",
    "(Select userId,sessionId,count(itemInSession) items\n",
    "from spotify_no_churn\n",
    "group by userId,SessionId\n",
    "order by userId) sub\n",
    "group by userId\n",
    "\"\"\"\n",
    "user_items_nc=spark.sql(query).toPandas()\n",
    "\n",
    "query=\"\"\" \n",
    "Select userId,avg(items) avg_items_sessions\n",
    "from\n",
    "(Select userId,sessionId,count(itemInSession) items\n",
    "from spotify_churn\n",
    "group by userId,SessionId\n",
    "order by userId) sub\n",
    "group by userId\n",
    "\"\"\"\n",
    "user_items_c=spark.sql(query).toPandas()"
   ]
  },
  {
   "cell_type": "code",
   "execution_count": 70,
   "metadata": {},
   "outputs": [
    {
     "data": {
      "image/png": "[encoded data removed]",
      "text/plain": [
       "<Figure size 432x288 with 1 Axes>"
      ]
     },
     "metadata": {
      "needs_background": "light"
     },
     "output_type": "display_data"
    }
   ],
   "source": [
    "plt.boxplot([user_items_nc['avg_items_sessions'].dropna(),user_items_c['avg_items_sessions'].dropna()],labels=['no-churn','churn'])\n",
    "plt.ylabel('Average items per session')\n",
    "plt.show()"
   ]
  },
  {
   "cell_type": "code",
   "execution_count": 71,
   "metadata": {},
   "outputs": [
    {
     "name": "stdout",
     "output_type": "stream",
     "text": [
      "+------+------------------+\n",
      "|userId|avg_items_sessions|\n",
      "+------+------------------+\n",
      "|    10|             132.5|\n",
      "|   100|100.48275862068965|\n",
      "|100002|              54.5|\n",
      "|100004| 61.55555555555556|\n",
      "|100007|57.666666666666664|\n",
      "+------+------------------+\n",
      "only showing top 5 rows\n",
      "\n"
     ]
    }
   ],
   "source": [
    "query=\"\"\" \n",
    "Select userId,avg(items) avg_items_sessions\n",
    "from\n",
    "(Select userId,sessionId,count(itemInSession) items\n",
    "from spotify_cleaned\n",
    "group by userId,SessionId\n",
    "order by userId) sub\n",
    "group by userId\n",
    "\"\"\"\n",
    "user_items=spark.sql(query)\n",
    "user_items=user_items.fillna(0)\n",
    "user_items.show(5)"
   ]
  },
  {
   "cell_type": "code",
   "execution_count": 72,
   "metadata": {},
   "outputs": [
    {
     "data": {
      "text/plain": [
       "164"
      ]
     },
     "execution_count": 72,
     "metadata": {},
     "output_type": "execute_result"
    }
   ],
   "source": [
    "user_items.count()"
   ]
  },
  {
   "cell_type": "markdown",
   "metadata": {},
   "source": [
    "# 8. Gender"
   ]
  },
  {
   "cell_type": "code",
   "execution_count": 73,
   "metadata": {},
   "outputs": [
    {
     "name": "stdout",
     "output_type": "stream",
     "text": [
      "+------+--------------------+\n",
      "|gender|gender_count_entries|\n",
      "+------+--------------------+\n",
      "|     F|               59857|\n",
      "|     M|               54581|\n",
      "+------+--------------------+\n",
      "\n"
     ]
    }
   ],
   "source": [
    "# gender counts amount non-churned users\n",
    "query=\"\"\" \n",
    "Select gender,count(*) gender_count_entries\n",
    "from spotify_no_churn\n",
    "group by gender\n",
    "\"\"\"\n",
    "spark.sql(query).show()"
   ]
  },
  {
   "cell_type": "code",
   "execution_count": 74,
   "metadata": {},
   "outputs": [
    {
     "name": "stdout",
     "output_type": "stream",
     "text": [
      "+------+------------+\n",
      "|gender|gender_count|\n",
      "+------+------------+\n",
      "|     F|          42|\n",
      "|     M|          46|\n",
      "+------+------------+\n",
      "\n"
     ]
    }
   ],
   "source": [
    "# gender counts amount Churned users\n",
    "query=\"\"\" \n",
    "Select gender,count(distinct userId) gender_count\n",
    "from spotify_no_churn\n",
    "group by gender\n",
    "\"\"\"\n",
    "spark.sql(query).show()"
   ]
  },
  {
   "cell_type": "code",
   "execution_count": 75,
   "metadata": {},
   "outputs": [
    {
     "name": "stdout",
     "output_type": "stream",
     "text": [
      "+------+--------------------+\n",
      "|gender|gender_count_entries|\n",
      "+------+--------------------+\n",
      "|     F|               65036|\n",
      "|     M|               42927|\n",
      "+------+--------------------+\n",
      "\n"
     ]
    }
   ],
   "source": [
    "query=\"\"\" \n",
    "Select gender,count(*) gender_count_entries\n",
    "from spotify_churn\n",
    "group by gender\n",
    "\"\"\"\n",
    "spark.sql(query).show()"
   ]
  },
  {
   "cell_type": "code",
   "execution_count": 76,
   "metadata": {},
   "outputs": [
    {
     "name": "stdout",
     "output_type": "stream",
     "text": [
      "+------+------------+\n",
      "|gender|gender_count|\n",
      "+------+------------+\n",
      "|     F|          37|\n",
      "|     M|          39|\n",
      "+------+------------+\n",
      "\n"
     ]
    }
   ],
   "source": [
    "query=\"\"\" \n",
    "Select gender,count(distinct userId) gender_count\n",
    "from spotify_churn\n",
    "group by gender\n",
    "\"\"\"\n",
    "spark.sql(query).show()"
   ]
  },
  {
   "cell_type": "code",
   "execution_count": 77,
   "metadata": {},
   "outputs": [
    {
     "name": "stdout",
     "output_type": "stream",
     "text": [
      "+------+------+\n",
      "|userId|gender|\n",
      "+------+------+\n",
      "|200002|     M|\n",
      "|   124|     F|\n",
      "|    51|     M|\n",
      "|    15|     M|\n",
      "|    54|     F|\n",
      "+------+------+\n",
      "only showing top 5 rows\n",
      "\n"
     ]
    }
   ],
   "source": [
    "query=\"\"\"\n",
    "Select userId,Max(gender) as gender\n",
    "from spotify_cleaned\n",
    "group by userId\n",
    "\"\"\"\n",
    "user_gender=spark.sql(query)\n",
    "user_gender.show(5)"
   ]
  },
  {
   "cell_type": "code",
   "execution_count": 78,
   "metadata": {},
   "outputs": [
    {
     "data": {
      "text/plain": [
       "164"
      ]
     },
     "execution_count": 78,
     "metadata": {},
     "output_type": "execute_result"
    }
   ],
   "source": [
    "user_gender.count()"
   ]
  },
  {
   "cell_type": "code",
   "execution_count": 79,
   "metadata": {},
   "outputs": [],
   "source": [
    "# Combine the all the dataframes by the userId column\n",
    "user_churn_df=user_churn.join(user_gender,user_churn.userId==user_gender.userId).drop(user_churn.userId)\n",
    "user_churn_df=user_churn_df.join(user_skip_ratio,user_churn_df.userId==user_skip_ratio.userId).drop(user_churn_df.userId)\n",
    "user_churn_df=user_churn_df.join(user_updown_ratio,user_churn_df.userId==user_updown_ratio.userId,how='full').drop(user_churn_df.userId)\n",
    "user_churn_df=user_churn_df.join(user_page_count,user_churn_df.userId==user_page_count.userId).drop(user_churn_df.userId)\n",
    "user_churn_df=user_churn_df.join(user_top10_artist_frac,user_churn_df.userId==user_top10_artist_frac.userId).drop(user_churn_df.userId)\n",
    "user_churn_df=user_churn_df.join(user_artist_song_frac,user_churn_df.userId==user_artist_song_frac.userId).drop(user_churn_df.userId)\n",
    "user_churn_df=user_churn_df.join(user_sessions,user_churn_df.userId==user_sessions.userId).drop(user_churn_df.userId)\n",
    "user_churn_df=user_churn_df.join(user_items,user_churn_df.userId==user_items.userId).drop(user_churn_df.userId)"
   ]
  },
  {
   "cell_type": "code",
   "execution_count": 80,
   "metadata": {},
   "outputs": [
    {
     "data": {
      "text/plain": [
       "163"
      ]
     },
     "execution_count": 80,
     "metadata": {},
     "output_type": "execute_result"
    }
   ],
   "source": [
    "user_churn_df.count()"
   ]
  },
  {
   "cell_type": "code",
   "execution_count": 81,
   "metadata": {},
   "outputs": [
    {
     "name": "stdout",
     "output_type": "stream",
     "text": [
      "['Churn', 'gender', 'skip_ratio', 'updown_ratio', 'Error', 'NextSong', 'Roll Advert', 'top10_frac', 'dist_artist_frac', 'dist_song_frac', 'session_act_days', 'act_days_frac', 'userId', 'avg_items_sessions']\n"
     ]
    }
   ],
   "source": [
    "print(user_churn_df.columns)"
   ]
  },
  {
   "cell_type": "markdown",
   "metadata": {},
   "source": [
    "### Create pipeline for transforming the gender variable and creating the vector of features"
   ]
  },
  {
   "cell_type": "code",
   "execution_count": 84,
   "metadata": {},
   "outputs": [],
   "source": [
    "user_churn_df_train,user_churn_df_test=user_churn_df.randomSplit([.8,.2],seed=125)"
   ]
  },
  {
   "cell_type": "code",
   "execution_count": 85,
   "metadata": {},
   "outputs": [
    {
     "name": "stdout",
     "output_type": "stream",
     "text": [
      "['Churn', 'gender', 'skip_ratio', 'updown_ratio', 'Error', 'NextSong', 'Roll Advert', 'top10_frac', 'dist_artist_frac', 'dist_song_frac', 'session_act_days', 'act_days_frac', 'userId', 'avg_items_sessions']\n"
     ]
    }
   ],
   "source": [
    "print(user_churn_df_train.columns)"
   ]
  },
  {
   "cell_type": "code",
   "execution_count": 86,
   "metadata": {},
   "outputs": [],
   "source": [
    "vec_assembler1 = VectorAssembler(inputCols=['skip_ratio','updown_ratio','Error','NextSong',\n",
    " 'Roll Advert','top10_frac','dist_artist_frac','dist_song_frac','session_act_days','act_days_frac',\n",
    "                                            'avg_items_sessions'],outputCol='features1')\n",
    "\n",
    "scaler = StandardScaler(inputCol=\"features1\", outputCol=\"scaledFeatures\",\n",
    "                        withStd=True, withMean=False)\n",
    "stringIndexer = StringIndexer(inputCol=\"gender\",outputCol=\"genderIndex\")\n",
    "encoder = OneHotEncoderEstimator(inputCols=[\"genderIndex\"],outputCols=[\"genderVec1\"])\n",
    "vec_assembler2 = VectorAssembler(inputCols=[\"scaledFeatures\",'genderVec1'],outputCol='features')\n",
    "pipeline=Pipeline(stages=[vec_assembler1,scaler,stringIndexer, encoder,vec_assembler2])\n",
    "model=pipeline.fit(user_churn_df_train)\n",
    "train=model.transform(user_churn_df_train)\n",
    "test=model.transform(user_churn_df_test)"
   ]
  },
  {
   "cell_type": "markdown",
   "metadata": {},
   "source": [
    "# 4. Model Building\n",
    "\n",
    "**Metrics Selection**\n",
    "\n",
    "Accuracy is a common choice. In the current dataset,the number of churned users are 76 and non-churned users are 88. As the both classes are nearly equal, accuracy is a good metric. However, if we go to large datasets, classes could be imbalanced. For example, 90% of the users could non-churned and only 10% is churned. In that case, even we incorrectly classify all the churned users, we could get 90% accuracy. So in those cases, precision and recall would be preferred. Precision measures what percentage of predicted postives are actually positive. In our problem, what percentage of predicted churned-users are correct. Recall measures what percentage of churned users are correctly classified ?\n",
    "\n",
    "In our problem, both precision and recall are equally important. We want to correctly classify most of the churned users and make little error in our predictions. Company might want to send incentives to predicted churned users to keep their subscription and they don't want to send it to regular customers. f1-score seeks a balance between precision and recall and could be a good option in this case. f1 score is defined as\n",
    "\n",
    "\\begin{equation*}\n",
    "f1-score=\\frac{2*(precision*recall)}{(precision+recall)}\n",
    "\\end{equation*}\n"
   ]
  },
  {
   "cell_type": "markdown",
   "metadata": {},
   "source": [
    "### Model 1 Logistic Regression"
   ]
  },
  {
   "cell_type": "code",
   "execution_count": 87,
   "metadata": {},
   "outputs": [
    {
     "name": "stdout",
     "output_type": "stream",
     "text": [
      "0.6798808588254699\n",
      "0.6664576802507837\n"
     ]
    }
   ],
   "source": [
    "lr = LogisticRegression(labelCol=\"Churn\",featuresCol=\"features\")\n",
    "lrModel = lr.fit(train)\n",
    "train_predictions=lrModel.transform(train)\n",
    "evaluator =evals.MulticlassClassificationEvaluator(labelCol=\"Churn\", predictionCol=\"prediction\",metricName='f1')\n",
    "print(evaluator.evaluate(train_predictions))\n",
    "test_predictions=lrModel.transform(test)\n",
    "print(evaluator.evaluate(test_predictions))"
   ]
  },
  {
   "cell_type": "markdown",
   "metadata": {},
   "source": [
    "### Model 2 linear SVC"
   ]
  },
  {
   "cell_type": "code",
   "execution_count": 88,
   "metadata": {},
   "outputs": [
    {
     "name": "stdout",
     "output_type": "stream",
     "text": [
      "0.6531008945141741\n",
      "0.7064935064935065\n"
     ]
    }
   ],
   "source": [
    "lsvc = LinearSVC(labelCol=\"Churn\",featuresCol=\"features\")\n",
    "lsvcModel=lsvc.fit(train)\n",
    "train_predictions=lsvcModel.transform(train)\n",
    "evaluator =evals.MulticlassClassificationEvaluator(labelCol=\"Churn\", predictionCol=\"prediction\",metricName='f1')\n",
    "print(evaluator.evaluate(train_predictions))\n",
    "test_predictions=lsvcModel.transform(test)\n",
    "print(evaluator.evaluate(test_predictions))"
   ]
  },
  {
   "cell_type": "markdown",
   "metadata": {},
   "source": [
    "### Model 3 Random Forest"
   ]
  },
  {
   "cell_type": "code",
   "execution_count": 89,
   "metadata": {},
   "outputs": [
    {
     "name": "stdout",
     "output_type": "stream",
     "text": [
      "Train set f1 score is  0.8416119429121793\n",
      "Test set f1 score is  0.5454545454545454\n"
     ]
    }
   ],
   "source": [
    "rf = RandomForestClassifier(labelCol=\"Churn\", featuresCol=\"features\", numTrees=25,maxBins=5,maxDepth=4,featureSubsetStrategy='onethird')\n",
    "rf_model=rf.fit(train)\n",
    "train_predictions=rf_model.transform(train)\n",
    "evaluator =evals.MulticlassClassificationEvaluator(labelCol=\"Churn\", predictionCol=\"prediction\",metricName='f1')\n",
    "print(\"Train set f1 score is \",evaluator.evaluate(train_predictions))\n",
    "test_predictions=rf_model.transform(test)\n",
    "print(\"Test set f1 score is \",evaluator.evaluate(test_predictions))"
   ]
  },
  {
   "cell_type": "markdown",
   "metadata": {},
   "source": [
    "### Repeat the models with another split"
   ]
  },
  {
   "cell_type": "code",
   "execution_count": 90,
   "metadata": {},
   "outputs": [],
   "source": [
    "user_churn_df_train,user_churn_df_test=user_churn_df.randomSplit([.8,.2],seed=180)\n",
    "vec_assembler1 = VectorAssembler(inputCols=['skip_ratio','updown_ratio','Error','NextSong',\n",
    " 'Roll Advert','top10_frac','dist_artist_frac','dist_song_frac','session_act_days','act_days_frac',\n",
    "                                            'avg_items_sessions'],outputCol='features1')\n",
    "\n",
    "scaler = StandardScaler(inputCol=\"features1\", outputCol=\"scaledFeatures\",\n",
    "                        withStd=True, withMean=False)\n",
    "stringIndexer = StringIndexer(inputCol=\"gender\",outputCol=\"genderIndex\")\n",
    "encoder = OneHotEncoderEstimator(inputCols=[\"genderIndex\"],outputCols=[\"genderVec1\"])\n",
    "vec_assembler2 = VectorAssembler(inputCols=[\"scaledFeatures\",'genderVec1'],outputCol='features')\n",
    "pipeline=Pipeline(stages=[vec_assembler1,scaler,stringIndexer, encoder,vec_assembler2])\n",
    "model=pipeline.fit(user_churn_df_train)\n",
    "train=model.transform(user_churn_df_train)\n",
    "test=model.transform(user_churn_df_test)"
   ]
  },
  {
   "cell_type": "markdown",
   "metadata": {},
   "source": [
    "###  Model 1 Logistic Regression"
   ]
  },
  {
   "cell_type": "code",
   "execution_count": 91,
   "metadata": {},
   "outputs": [
    {
     "name": "stdout",
     "output_type": "stream",
     "text": [
      "Train set f1 score is  0.7249760765550239\n",
      "Test set f1 score is  0.5753200204813108\n"
     ]
    }
   ],
   "source": [
    "lr = LogisticRegression(labelCol=\"Churn\",featuresCol=\"features\")\n",
    "lrModel = lr.fit(train)\n",
    "train_predictions=lrModel.transform(train)\n",
    "evaluator =evals.MulticlassClassificationEvaluator(labelCol=\"Churn\", predictionCol=\"prediction\",metricName='f1')\n",
    "print(\"Train set f1 score is \",evaluator.evaluate(train_predictions))\n",
    "test_predictions=lrModel.transform(test)\n",
    "print(\"Test set f1 score is \",evaluator.evaluate(test_predictions))"
   ]
  },
  {
   "cell_type": "markdown",
   "metadata": {},
   "source": [
    "###  Model 2 linear SVC"
   ]
  },
  {
   "cell_type": "code",
   "execution_count": 92,
   "metadata": {},
   "outputs": [
    {
     "name": "stdout",
     "output_type": "stream",
     "text": [
      "Train set f1 score is  0.7257476912649327\n",
      "Test set f1 score is  0.5670444638186574\n"
     ]
    }
   ],
   "source": [
    "lsvc = LinearSVC(labelCol=\"Churn\",featuresCol=\"features\")\n",
    "lsvcModel=lsvc.fit(train)\n",
    "train_predictions=lsvcModel.transform(train)\n",
    "evaluator =evals.MulticlassClassificationEvaluator(labelCol=\"Churn\", predictionCol=\"prediction\",metricName='f1')\n",
    "print(\"Train set f1 score is \",evaluator.evaluate(train_predictions))\n",
    "test_predictions=lsvcModel.transform(test)\n",
    "print(\"Test set f1 score is \",evaluator.evaluate(test_predictions))"
   ]
  },
  {
   "cell_type": "markdown",
   "metadata": {},
   "source": [
    "### Model 3 Random Forest"
   ]
  },
  {
   "cell_type": "code",
   "execution_count": 93,
   "metadata": {
    "scrolled": true
   },
   "outputs": [
    {
     "name": "stdout",
     "output_type": "stream",
     "text": [
      "Train set f1 score is  0.8689328921054282\n",
      "Test set f1 score is  0.5753200204813108\n"
     ]
    }
   ],
   "source": [
    "rf = RandomForestClassifier(labelCol=\"Churn\", featuresCol=\"features\", numTrees=25,maxBins=5,maxDepth=4,featureSubsetStrategy='onethird')\n",
    "rf_model=rf.fit(train)\n",
    "train_predictions=rf_model.transform(train)\n",
    "evaluator =evals.MulticlassClassificationEvaluator(labelCol=\"Churn\", predictionCol=\"prediction\",metricName='f1')\n",
    "print(\"Train set f1 score is \",evaluator.evaluate(train_predictions))\n",
    "test_predictions=rf_model.transform(test)\n",
    "print(\"Test set f1 score is \",evaluator.evaluate(test_predictions))"
   ]
  },
  {
   "cell_type": "markdown",
   "metadata": {},
   "source": [
    "# 5. Evaluate the results\n",
    "\n",
    "Both Logistic Regression and Linear SVC give comparable results While Random Forest overfit. Hoever,results were seen to be affect the split of train and test data. This is expected for smaller dataset where the model does not generalize well.\n",
    "\n",
    "In the next step, I will attempt to further optimise the Logistic Regression using cross validation and parameter grid search\n",
    "\n"
   ]
  },
  {
   "cell_type": "markdown",
   "metadata": {},
   "source": [
    "### Tuning Logistic Regression model"
   ]
  },
  {
   "cell_type": "code",
   "execution_count": 94,
   "metadata": {},
   "outputs": [],
   "source": [
    "user_churn_df_train,user_churn_df_test=user_churn_df.randomSplit([.8,.2],seed=125)\n",
    "vec_assembler1 = VectorAssembler(inputCols=['skip_ratio','updown_ratio','Error','NextSong',\n",
    " 'Roll Advert','top10_frac','dist_artist_frac','dist_song_frac','session_act_days','act_days_frac',\n",
    "                                            'avg_items_sessions'],outputCol='features1')\n",
    "\n",
    "scaler = StandardScaler(inputCol=\"features1\", outputCol=\"scaledFeatures\",\n",
    "                        withStd=True, withMean=False)\n",
    "stringIndexer = StringIndexer(inputCol=\"gender\",outputCol=\"genderIndex\")\n",
    "encoder = OneHotEncoderEstimator(inputCols=[\"genderIndex\"],outputCols=[\"genderVec1\"])\n",
    "vec_assembler2 = VectorAssembler(inputCols=[\"scaledFeatures\",'genderVec1'],outputCol='features')\n",
    "pipeline=Pipeline(stages=[vec_assembler1,scaler,stringIndexer, encoder,vec_assembler2])\n",
    "model=pipeline.fit(user_churn_df_train)\n",
    "train=model.transform(user_churn_df_train)\n",
    "test=model.transform(user_churn_df_test)"
   ]
  },
  {
   "cell_type": "code",
   "execution_count": 96,
   "metadata": {},
   "outputs": [],
   "source": [
    "lr = LogisticRegression(labelCol=\"Churn\",featuresCol=\"features\")\n",
    "evaluator =evals.MulticlassClassificationEvaluator(labelCol=\"Churn\", predictionCol=\"prediction\",metricName='f1')\n",
    "grid = tune.ParamGridBuilder()\n",
    "grid = grid.addGrid(lr.elasticNetParam,[0.0, 0.5, 1.0])\n",
    "grid = grid.addGrid(lr.maxIter,[10, 100, 200])\n",
    "grid = grid.addGrid(lr.threshold,[.4,.5,.6])\n",
    "grid = grid.build()\n",
    "cv = tune.CrossValidator(estimator=lr,\n",
    "               estimatorParamMaps=grid,\n",
    "               evaluator=evaluator,numFolds=5)\n",
    "models = cv.fit(train)\n",
    "best_lr= models.bestModel"
   ]
  },
  {
   "cell_type": "code",
   "execution_count": 124,
   "metadata": {},
   "outputs": [
    {
     "data": {
      "image/png": "[encoded data removed]",
      "text/plain": [
       "<Figure size 432x288 with 1 Axes>"
      ]
     },
     "metadata": {
      "needs_background": "light"
     },
     "output_type": "display_data"
    }
   ],
   "source": [
    "plt.hist(models.avgMetrics,bins=4)\n",
    "plt.xlim(.50,.70)\n",
    "plt.show()"
   ]
  },
  {
   "cell_type": "code",
   "execution_count": 127,
   "metadata": {},
   "outputs": [
    {
     "data": {
      "text/plain": [
       "0.0"
      ]
     },
     "execution_count": 127,
     "metadata": {},
     "output_type": "execute_result"
    }
   ],
   "source": [
    "best_lr._java_obj.getElasticNetParam()"
   ]
  },
  {
   "cell_type": "code",
   "execution_count": 128,
   "metadata": {},
   "outputs": [
    {
     "data": {
      "text/plain": [
       "100"
      ]
     },
     "execution_count": 128,
     "metadata": {},
     "output_type": "execute_result"
    }
   ],
   "source": [
    "best_lr._java_obj.getMaxIter()"
   ]
  },
  {
   "cell_type": "code",
   "execution_count": 130,
   "metadata": {},
   "outputs": [
    {
     "data": {
      "text/plain": [
       "0.6"
      ]
     },
     "execution_count": 130,
     "metadata": {},
     "output_type": "execute_result"
    }
   ],
   "source": [
    "best_lr._java_obj.getThreshold()"
   ]
  },
  {
   "cell_type": "code",
   "execution_count": 105,
   "metadata": {},
   "outputs": [
    {
     "name": "stdout",
     "output_type": "stream",
     "text": [
      "Train set f1 score is  0.6818801279376998\n"
     ]
    }
   ],
   "source": [
    "train_predictions=best_lr.transform(train)\n",
    "print(\"Train set f1 score is \",evaluator.evaluate(train_predictions))"
   ]
  },
  {
   "cell_type": "code",
   "execution_count": 139,
   "metadata": {},
   "outputs": [
    {
     "name": "stderr",
     "output_type": "stream",
     "text": [
      "ERROR:py4j.java_gateway:An error occurred while trying to connect to the Java server (127.0.0.1:57249)\n",
      "Traceback (most recent call last):\n",
      "  File \"/Users/Vineeth/anaconda3/lib/python3.7/site-packages/py4j/java_gateway.py\", line 929, in _get_connection\n",
      "    connection = self.deque.pop()\n",
      "IndexError: pop from an empty deque\n",
      "\n",
      "During handling of the above exception, another exception occurred:\n",
      "\n",
      "Traceback (most recent call last):\n",
      "  File \"/Users/Vineeth/anaconda3/lib/python3.7/site-packages/py4j/java_gateway.py\", line 1067, in start\n",
      "    self.socket.connect((self.address, self.port))\n",
      "ConnectionRefusedError: [Errno 61] Connection refused\n"
     ]
    },
    {
     "ename": "Py4JNetworkError",
     "evalue": "An error occurred while trying to connect to the Java server (127.0.0.1:57249)",
     "output_type": "error",
     "traceback": [
      "\u001b[0;31m---------------------------------------------------------------------------\u001b[0m",
      "\u001b[0;31mIndexError\u001b[0m                                Traceback (most recent call last)",
      "\u001b[0;32m~/anaconda3/lib/python3.7/site-packages/py4j/java_gateway.py\u001b[0m in \u001b[0;36m_get_connection\u001b[0;34m(self)\u001b[0m\n\u001b[1;32m    928\u001b[0m         \u001b[0;32mtry\u001b[0m\u001b[0;34m:\u001b[0m\u001b[0;34m\u001b[0m\u001b[0;34m\u001b[0m\u001b[0m\n\u001b[0;32m--> 929\u001b[0;31m             \u001b[0mconnection\u001b[0m \u001b[0;34m=\u001b[0m \u001b[0mself\u001b[0m\u001b[0;34m.\u001b[0m\u001b[0mdeque\u001b[0m\u001b[0;34m.\u001b[0m\u001b[0mpop\u001b[0m\u001b[0;34m(\u001b[0m\u001b[0;34m)\u001b[0m\u001b[0;34m\u001b[0m\u001b[0;34m\u001b[0m\u001b[0m\n\u001b[0m\u001b[1;32m    930\u001b[0m         \u001b[0;32mexcept\u001b[0m \u001b[0mIndexError\u001b[0m\u001b[0;34m:\u001b[0m\u001b[0;34m\u001b[0m\u001b[0;34m\u001b[0m\u001b[0m\n",
      "\u001b[0;31mIndexError\u001b[0m: pop from an empty deque",
      "\nDuring handling of the above exception, another exception occurred:\n",
      "\u001b[0;31mConnectionRefusedError\u001b[0m                    Traceback (most recent call last)",
      "\u001b[0;32m~/anaconda3/lib/python3.7/site-packages/py4j/java_gateway.py\u001b[0m in \u001b[0;36mstart\u001b[0;34m(self)\u001b[0m\n\u001b[1;32m   1066\u001b[0m         \u001b[0;32mtry\u001b[0m\u001b[0;34m:\u001b[0m\u001b[0;34m\u001b[0m\u001b[0;34m\u001b[0m\u001b[0m\n\u001b[0;32m-> 1067\u001b[0;31m             \u001b[0mself\u001b[0m\u001b[0;34m.\u001b[0m\u001b[0msocket\u001b[0m\u001b[0;34m.\u001b[0m\u001b[0mconnect\u001b[0m\u001b[0;34m(\u001b[0m\u001b[0;34m(\u001b[0m\u001b[0mself\u001b[0m\u001b[0;34m.\u001b[0m\u001b[0maddress\u001b[0m\u001b[0;34m,\u001b[0m \u001b[0mself\u001b[0m\u001b[0;34m.\u001b[0m\u001b[0mport\u001b[0m\u001b[0;34m)\u001b[0m\u001b[0;34m)\u001b[0m\u001b[0;34m\u001b[0m\u001b[0;34m\u001b[0m\u001b[0m\n\u001b[0m\u001b[1;32m   1068\u001b[0m             \u001b[0mself\u001b[0m\u001b[0;34m.\u001b[0m\u001b[0mstream\u001b[0m \u001b[0;34m=\u001b[0m \u001b[0mself\u001b[0m\u001b[0;34m.\u001b[0m\u001b[0msocket\u001b[0m\u001b[0;34m.\u001b[0m\u001b[0mmakefile\u001b[0m\u001b[0;34m(\u001b[0m\u001b[0;34m\"rb\"\u001b[0m\u001b[0;34m)\u001b[0m\u001b[0;34m\u001b[0m\u001b[0;34m\u001b[0m\u001b[0m\n",
      "\u001b[0;31mConnectionRefusedError\u001b[0m: [Errno 61] Connection refused",
      "\nDuring handling of the above exception, another exception occurred:\n",
      "\u001b[0;31mPy4JNetworkError\u001b[0m                          Traceback (most recent call last)",
      "\u001b[0;32m<ipython-input-139-277f0493ddd5>\u001b[0m in \u001b[0;36m<module>\u001b[0;34m\u001b[0m\n\u001b[0;32m----> 1\u001b[0;31m \u001b[0mtest_predictions\u001b[0m\u001b[0;34m=\u001b[0m\u001b[0mbest_lr\u001b[0m\u001b[0;34m.\u001b[0m\u001b[0mtransform\u001b[0m\u001b[0;34m(\u001b[0m\u001b[0mtest\u001b[0m\u001b[0;34m)\u001b[0m\u001b[0;34m\u001b[0m\u001b[0;34m\u001b[0m\u001b[0m\n\u001b[0m\u001b[1;32m      2\u001b[0m \u001b[0mprint\u001b[0m\u001b[0;34m(\u001b[0m\u001b[0;34m\"Test set f1 score is \"\u001b[0m\u001b[0;34m,\u001b[0m\u001b[0mevaluator\u001b[0m\u001b[0;34m.\u001b[0m\u001b[0mevaluate\u001b[0m\u001b[0;34m(\u001b[0m\u001b[0mtest_predictions\u001b[0m\u001b[0;34m)\u001b[0m\u001b[0;34m)\u001b[0m\u001b[0;34m\u001b[0m\u001b[0;34m\u001b[0m\u001b[0m\n",
      "\u001b[0;32m~/anaconda3/lib/python3.7/site-packages/pyspark/ml/base.py\u001b[0m in \u001b[0;36mtransform\u001b[0;34m(self, dataset, params)\u001b[0m\n\u001b[1;32m    171\u001b[0m                 \u001b[0;32mreturn\u001b[0m \u001b[0mself\u001b[0m\u001b[0;34m.\u001b[0m\u001b[0mcopy\u001b[0m\u001b[0;34m(\u001b[0m\u001b[0mparams\u001b[0m\u001b[0;34m)\u001b[0m\u001b[0;34m.\u001b[0m\u001b[0m_transform\u001b[0m\u001b[0;34m(\u001b[0m\u001b[0mdataset\u001b[0m\u001b[0;34m)\u001b[0m\u001b[0;34m\u001b[0m\u001b[0;34m\u001b[0m\u001b[0m\n\u001b[1;32m    172\u001b[0m             \u001b[0;32melse\u001b[0m\u001b[0;34m:\u001b[0m\u001b[0;34m\u001b[0m\u001b[0;34m\u001b[0m\u001b[0m\n\u001b[0;32m--> 173\u001b[0;31m                 \u001b[0;32mreturn\u001b[0m \u001b[0mself\u001b[0m\u001b[0;34m.\u001b[0m\u001b[0m_transform\u001b[0m\u001b[0;34m(\u001b[0m\u001b[0mdataset\u001b[0m\u001b[0;34m)\u001b[0m\u001b[0;34m\u001b[0m\u001b[0;34m\u001b[0m\u001b[0m\n\u001b[0m\u001b[1;32m    174\u001b[0m         \u001b[0;32melse\u001b[0m\u001b[0;34m:\u001b[0m\u001b[0;34m\u001b[0m\u001b[0;34m\u001b[0m\u001b[0m\n\u001b[1;32m    175\u001b[0m             \u001b[0;32mraise\u001b[0m \u001b[0mValueError\u001b[0m\u001b[0;34m(\u001b[0m\u001b[0;34m\"Params must be a param map but got %s.\"\u001b[0m \u001b[0;34m%\u001b[0m \u001b[0mtype\u001b[0m\u001b[0;34m(\u001b[0m\u001b[0mparams\u001b[0m\u001b[0;34m)\u001b[0m\u001b[0;34m)\u001b[0m\u001b[0;34m\u001b[0m\u001b[0;34m\u001b[0m\u001b[0m\n",
      "\u001b[0;32m~/anaconda3/lib/python3.7/site-packages/pyspark/ml/wrapper.py\u001b[0m in \u001b[0;36m_transform\u001b[0;34m(self, dataset)\u001b[0m\n\u001b[1;32m    309\u001b[0m \u001b[0;34m\u001b[0m\u001b[0m\n\u001b[1;32m    310\u001b[0m     \u001b[0;32mdef\u001b[0m \u001b[0m_transform\u001b[0m\u001b[0;34m(\u001b[0m\u001b[0mself\u001b[0m\u001b[0;34m,\u001b[0m \u001b[0mdataset\u001b[0m\u001b[0;34m)\u001b[0m\u001b[0;34m:\u001b[0m\u001b[0;34m\u001b[0m\u001b[0;34m\u001b[0m\u001b[0m\n\u001b[0;32m--> 311\u001b[0;31m         \u001b[0mself\u001b[0m\u001b[0;34m.\u001b[0m\u001b[0m_transfer_params_to_java\u001b[0m\u001b[0;34m(\u001b[0m\u001b[0;34m)\u001b[0m\u001b[0;34m\u001b[0m\u001b[0;34m\u001b[0m\u001b[0m\n\u001b[0m\u001b[1;32m    312\u001b[0m         \u001b[0;32mreturn\u001b[0m \u001b[0mDataFrame\u001b[0m\u001b[0;34m(\u001b[0m\u001b[0mself\u001b[0m\u001b[0;34m.\u001b[0m\u001b[0m_java_obj\u001b[0m\u001b[0;34m.\u001b[0m\u001b[0mtransform\u001b[0m\u001b[0;34m(\u001b[0m\u001b[0mdataset\u001b[0m\u001b[0;34m.\u001b[0m\u001b[0m_jdf\u001b[0m\u001b[0;34m)\u001b[0m\u001b[0;34m,\u001b[0m \u001b[0mdataset\u001b[0m\u001b[0;34m.\u001b[0m\u001b[0msql_ctx\u001b[0m\u001b[0;34m)\u001b[0m\u001b[0;34m\u001b[0m\u001b[0;34m\u001b[0m\u001b[0m\n\u001b[1;32m    313\u001b[0m \u001b[0;34m\u001b[0m\u001b[0m\n",
      "\u001b[0;32m~/anaconda3/lib/python3.7/site-packages/pyspark/ml/wrapper.py\u001b[0m in \u001b[0;36m_transfer_params_to_java\u001b[0;34m(self)\u001b[0m\n\u001b[1;32m    125\u001b[0m                 \u001b[0mself\u001b[0m\u001b[0;34m.\u001b[0m\u001b[0m_java_obj\u001b[0m\u001b[0;34m.\u001b[0m\u001b[0mset\u001b[0m\u001b[0;34m(\u001b[0m\u001b[0mpair\u001b[0m\u001b[0;34m)\u001b[0m\u001b[0;34m\u001b[0m\u001b[0;34m\u001b[0m\u001b[0m\n\u001b[1;32m    126\u001b[0m             \u001b[0;32mif\u001b[0m \u001b[0mself\u001b[0m\u001b[0;34m.\u001b[0m\u001b[0mhasDefault\u001b[0m\u001b[0;34m(\u001b[0m\u001b[0mparam\u001b[0m\u001b[0;34m)\u001b[0m\u001b[0;34m:\u001b[0m\u001b[0;34m\u001b[0m\u001b[0;34m\u001b[0m\u001b[0m\n\u001b[0;32m--> 127\u001b[0;31m                 \u001b[0mpair\u001b[0m \u001b[0;34m=\u001b[0m \u001b[0mself\u001b[0m\u001b[0;34m.\u001b[0m\u001b[0m_make_java_param_pair\u001b[0m\u001b[0;34m(\u001b[0m\u001b[0mparam\u001b[0m\u001b[0;34m,\u001b[0m \u001b[0mself\u001b[0m\u001b[0;34m.\u001b[0m\u001b[0m_defaultParamMap\u001b[0m\u001b[0;34m[\u001b[0m\u001b[0mparam\u001b[0m\u001b[0;34m]\u001b[0m\u001b[0;34m)\u001b[0m\u001b[0;34m\u001b[0m\u001b[0;34m\u001b[0m\u001b[0m\n\u001b[0m\u001b[1;32m    128\u001b[0m                 \u001b[0mpair_defaults\u001b[0m\u001b[0;34m.\u001b[0m\u001b[0mappend\u001b[0m\u001b[0;34m(\u001b[0m\u001b[0mpair\u001b[0m\u001b[0;34m)\u001b[0m\u001b[0;34m\u001b[0m\u001b[0;34m\u001b[0m\u001b[0m\n\u001b[1;32m    129\u001b[0m         \u001b[0;32mif\u001b[0m \u001b[0mlen\u001b[0m\u001b[0;34m(\u001b[0m\u001b[0mpair_defaults\u001b[0m\u001b[0;34m)\u001b[0m \u001b[0;34m>\u001b[0m \u001b[0;36m0\u001b[0m\u001b[0;34m:\u001b[0m\u001b[0;34m\u001b[0m\u001b[0;34m\u001b[0m\u001b[0m\n",
      "\u001b[0;32m~/anaconda3/lib/python3.7/site-packages/pyspark/ml/wrapper.py\u001b[0m in \u001b[0;36m_make_java_param_pair\u001b[0;34m(self, param, value)\u001b[0m\n\u001b[1;32m    111\u001b[0m         \u001b[0msc\u001b[0m \u001b[0;34m=\u001b[0m \u001b[0mSparkContext\u001b[0m\u001b[0;34m.\u001b[0m\u001b[0m_active_spark_context\u001b[0m\u001b[0;34m\u001b[0m\u001b[0;34m\u001b[0m\u001b[0m\n\u001b[1;32m    112\u001b[0m         \u001b[0mparam\u001b[0m \u001b[0;34m=\u001b[0m \u001b[0mself\u001b[0m\u001b[0;34m.\u001b[0m\u001b[0m_resolveParam\u001b[0m\u001b[0;34m(\u001b[0m\u001b[0mparam\u001b[0m\u001b[0;34m)\u001b[0m\u001b[0;34m\u001b[0m\u001b[0;34m\u001b[0m\u001b[0m\n\u001b[0;32m--> 113\u001b[0;31m         \u001b[0mjava_param\u001b[0m \u001b[0;34m=\u001b[0m \u001b[0mself\u001b[0m\u001b[0;34m.\u001b[0m\u001b[0m_java_obj\u001b[0m\u001b[0;34m.\u001b[0m\u001b[0mgetParam\u001b[0m\u001b[0;34m(\u001b[0m\u001b[0mparam\u001b[0m\u001b[0;34m.\u001b[0m\u001b[0mname\u001b[0m\u001b[0;34m)\u001b[0m\u001b[0;34m\u001b[0m\u001b[0;34m\u001b[0m\u001b[0m\n\u001b[0m\u001b[1;32m    114\u001b[0m         \u001b[0mjava_value\u001b[0m \u001b[0;34m=\u001b[0m \u001b[0m_py2java\u001b[0m\u001b[0;34m(\u001b[0m\u001b[0msc\u001b[0m\u001b[0;34m,\u001b[0m \u001b[0mvalue\u001b[0m\u001b[0;34m)\u001b[0m\u001b[0;34m\u001b[0m\u001b[0;34m\u001b[0m\u001b[0m\n\u001b[1;32m    115\u001b[0m         \u001b[0;32mreturn\u001b[0m \u001b[0mjava_param\u001b[0m\u001b[0;34m.\u001b[0m\u001b[0mw\u001b[0m\u001b[0;34m(\u001b[0m\u001b[0mjava_value\u001b[0m\u001b[0;34m)\u001b[0m\u001b[0;34m\u001b[0m\u001b[0;34m\u001b[0m\u001b[0m\n",
      "\u001b[0;32m~/anaconda3/lib/python3.7/site-packages/py4j/java_gateway.py\u001b[0m in \u001b[0;36m__call__\u001b[0;34m(self, *args)\u001b[0m\n\u001b[1;32m   1253\u001b[0m             \u001b[0mproto\u001b[0m\u001b[0;34m.\u001b[0m\u001b[0mEND_COMMAND_PART\u001b[0m\u001b[0;34m\u001b[0m\u001b[0;34m\u001b[0m\u001b[0m\n\u001b[1;32m   1254\u001b[0m \u001b[0;34m\u001b[0m\u001b[0m\n\u001b[0;32m-> 1255\u001b[0;31m         \u001b[0manswer\u001b[0m \u001b[0;34m=\u001b[0m \u001b[0mself\u001b[0m\u001b[0;34m.\u001b[0m\u001b[0mgateway_client\u001b[0m\u001b[0;34m.\u001b[0m\u001b[0msend_command\u001b[0m\u001b[0;34m(\u001b[0m\u001b[0mcommand\u001b[0m\u001b[0;34m)\u001b[0m\u001b[0;34m\u001b[0m\u001b[0;34m\u001b[0m\u001b[0m\n\u001b[0m\u001b[1;32m   1256\u001b[0m         return_value = get_return_value(\n\u001b[1;32m   1257\u001b[0m             answer, self.gateway_client, self.target_id, self.name)\n",
      "\u001b[0;32m~/anaconda3/lib/python3.7/site-packages/py4j/java_gateway.py\u001b[0m in \u001b[0;36msend_command\u001b[0;34m(self, command, retry, binary)\u001b[0m\n\u001b[1;32m    981\u001b[0m          \u001b[0;32mif\u001b[0m\u001b[0;31m \u001b[0m\u001b[0;31m`\u001b[0m\u001b[0mbinary\u001b[0m\u001b[0;31m`\u001b[0m \u001b[0;32mis\u001b[0m\u001b[0;31m \u001b[0m\u001b[0;31m`\u001b[0m\u001b[0;32mTrue\u001b[0m\u001b[0;31m`\u001b[0m\u001b[0;34m.\u001b[0m\u001b[0;34m\u001b[0m\u001b[0;34m\u001b[0m\u001b[0m\n\u001b[1;32m    982\u001b[0m         \"\"\"\n\u001b[0;32m--> 983\u001b[0;31m         \u001b[0mconnection\u001b[0m \u001b[0;34m=\u001b[0m \u001b[0mself\u001b[0m\u001b[0;34m.\u001b[0m\u001b[0m_get_connection\u001b[0m\u001b[0;34m(\u001b[0m\u001b[0;34m)\u001b[0m\u001b[0;34m\u001b[0m\u001b[0;34m\u001b[0m\u001b[0m\n\u001b[0m\u001b[1;32m    984\u001b[0m         \u001b[0;32mtry\u001b[0m\u001b[0;34m:\u001b[0m\u001b[0;34m\u001b[0m\u001b[0;34m\u001b[0m\u001b[0m\n\u001b[1;32m    985\u001b[0m             \u001b[0mresponse\u001b[0m \u001b[0;34m=\u001b[0m \u001b[0mconnection\u001b[0m\u001b[0;34m.\u001b[0m\u001b[0msend_command\u001b[0m\u001b[0;34m(\u001b[0m\u001b[0mcommand\u001b[0m\u001b[0;34m)\u001b[0m\u001b[0;34m\u001b[0m\u001b[0;34m\u001b[0m\u001b[0m\n",
      "\u001b[0;32m~/anaconda3/lib/python3.7/site-packages/py4j/java_gateway.py\u001b[0m in \u001b[0;36m_get_connection\u001b[0;34m(self)\u001b[0m\n\u001b[1;32m    929\u001b[0m             \u001b[0mconnection\u001b[0m \u001b[0;34m=\u001b[0m \u001b[0mself\u001b[0m\u001b[0;34m.\u001b[0m\u001b[0mdeque\u001b[0m\u001b[0;34m.\u001b[0m\u001b[0mpop\u001b[0m\u001b[0;34m(\u001b[0m\u001b[0;34m)\u001b[0m\u001b[0;34m\u001b[0m\u001b[0;34m\u001b[0m\u001b[0m\n\u001b[1;32m    930\u001b[0m         \u001b[0;32mexcept\u001b[0m \u001b[0mIndexError\u001b[0m\u001b[0;34m:\u001b[0m\u001b[0;34m\u001b[0m\u001b[0;34m\u001b[0m\u001b[0m\n\u001b[0;32m--> 931\u001b[0;31m             \u001b[0mconnection\u001b[0m \u001b[0;34m=\u001b[0m \u001b[0mself\u001b[0m\u001b[0;34m.\u001b[0m\u001b[0m_create_connection\u001b[0m\u001b[0;34m(\u001b[0m\u001b[0;34m)\u001b[0m\u001b[0;34m\u001b[0m\u001b[0;34m\u001b[0m\u001b[0m\n\u001b[0m\u001b[1;32m    932\u001b[0m         \u001b[0;32mreturn\u001b[0m \u001b[0mconnection\u001b[0m\u001b[0;34m\u001b[0m\u001b[0;34m\u001b[0m\u001b[0m\n\u001b[1;32m    933\u001b[0m \u001b[0;34m\u001b[0m\u001b[0m\n",
      "\u001b[0;32m~/anaconda3/lib/python3.7/site-packages/py4j/java_gateway.py\u001b[0m in \u001b[0;36m_create_connection\u001b[0;34m(self)\u001b[0m\n\u001b[1;32m    935\u001b[0m         connection = GatewayConnection(\n\u001b[1;32m    936\u001b[0m             self.gateway_parameters, self.gateway_property)\n\u001b[0;32m--> 937\u001b[0;31m         \u001b[0mconnection\u001b[0m\u001b[0;34m.\u001b[0m\u001b[0mstart\u001b[0m\u001b[0;34m(\u001b[0m\u001b[0;34m)\u001b[0m\u001b[0;34m\u001b[0m\u001b[0;34m\u001b[0m\u001b[0m\n\u001b[0m\u001b[1;32m    938\u001b[0m         \u001b[0;32mreturn\u001b[0m \u001b[0mconnection\u001b[0m\u001b[0;34m\u001b[0m\u001b[0;34m\u001b[0m\u001b[0m\n\u001b[1;32m    939\u001b[0m \u001b[0;34m\u001b[0m\u001b[0m\n",
      "\u001b[0;32m~/anaconda3/lib/python3.7/site-packages/py4j/java_gateway.py\u001b[0m in \u001b[0;36mstart\u001b[0;34m(self)\u001b[0m\n\u001b[1;32m   1077\u001b[0m                 \u001b[0;34m\"server ({0}:{1})\"\u001b[0m\u001b[0;34m.\u001b[0m\u001b[0mformat\u001b[0m\u001b[0;34m(\u001b[0m\u001b[0mself\u001b[0m\u001b[0;34m.\u001b[0m\u001b[0maddress\u001b[0m\u001b[0;34m,\u001b[0m \u001b[0mself\u001b[0m\u001b[0;34m.\u001b[0m\u001b[0mport\u001b[0m\u001b[0;34m)\u001b[0m\u001b[0;34m\u001b[0m\u001b[0;34m\u001b[0m\u001b[0m\n\u001b[1;32m   1078\u001b[0m             \u001b[0mlogger\u001b[0m\u001b[0;34m.\u001b[0m\u001b[0mexception\u001b[0m\u001b[0;34m(\u001b[0m\u001b[0mmsg\u001b[0m\u001b[0;34m)\u001b[0m\u001b[0;34m\u001b[0m\u001b[0;34m\u001b[0m\u001b[0m\n\u001b[0;32m-> 1079\u001b[0;31m             \u001b[0;32mraise\u001b[0m \u001b[0mPy4JNetworkError\u001b[0m\u001b[0;34m(\u001b[0m\u001b[0mmsg\u001b[0m\u001b[0;34m,\u001b[0m \u001b[0me\u001b[0m\u001b[0;34m)\u001b[0m\u001b[0;34m\u001b[0m\u001b[0;34m\u001b[0m\u001b[0m\n\u001b[0m\u001b[1;32m   1080\u001b[0m \u001b[0;34m\u001b[0m\u001b[0m\n\u001b[1;32m   1081\u001b[0m     \u001b[0;32mdef\u001b[0m \u001b[0m_authenticate_connection\u001b[0m\u001b[0;34m(\u001b[0m\u001b[0mself\u001b[0m\u001b[0;34m)\u001b[0m\u001b[0;34m:\u001b[0m\u001b[0;34m\u001b[0m\u001b[0;34m\u001b[0m\u001b[0m\n",
      "\u001b[0;31mPy4JNetworkError\u001b[0m: An error occurred while trying to connect to the Java server (127.0.0.1:57249)"
     ]
    }
   ],
   "source": [
    "test_predictions=best_lr.transform(test)\n",
    "print(\"Test set f1 score is \",evaluator.evaluate(test_predictions))"
   ]
  },
  {
   "cell_type": "markdown",
   "metadata": {},
   "source": [
    "**Test set f1 score is  0.6462891946762914**\n",
    "\n",
    "This was obtained previously before the connection error. I couldn't rerun the tuning as it did take more than 12 hours.\n",
    "\n",
    "Unfortunately, tuning didn't improve the performanc on the test data. For the same dataset, performance of the default logistic regression is better than the best model from the tuning"
   ]
  },
  {
   "cell_type": "markdown",
   "metadata": {},
   "source": [
    "### Evaluate performance on different splits\n",
    "\n",
    "This step is performed to evaluate the robusteness of the model. I would run the default logistic regression model 5 times with random split and compare the results"
   ]
  },
  {
   "cell_type": "code",
   "execution_count": 82,
   "metadata": {},
   "outputs": [
    {
     "name": "stdout",
     "output_type": "stream",
     "text": [
      "0.7030657342239488\n",
      "0.7010011123470523\n"
     ]
    }
   ],
   "source": [
    "def lr_predict(user_churn_df):\n",
    "    \n",
    "    \"\"\" Split the dataset into train and test. Evaluate a logistic Regression model\n",
    "    Args\n",
    "    Input: \n",
    "    user_churn_df: dataframe to be evaualted\n",
    "    Output:\n",
    "    print the f1-score for train and test data\n",
    "    \"\"\"\n",
    "\n",
    "    user_churn_df_train,user_churn_df_test=user_churn_df.randomSplit([.8,.2])\n",
    "    vec_assembler1 = VectorAssembler(inputCols=['skip_ratio','updown_ratio','Error','NextSong',\n",
    "     'Roll Advert','top10_frac','dist_artist_frac','dist_song_frac','session_act_days','act_days_frac',\n",
    "                                                'avg_items_sessions'],outputCol='features1')\n",
    "\n",
    "    scaler = StandardScaler(inputCol=\"features1\", outputCol=\"scaledFeatures\",\n",
    "                            withStd=True, withMean=False)\n",
    "    stringIndexer = StringIndexer(inputCol=\"gender\",outputCol=\"genderIndex\")\n",
    "    encoder = OneHotEncoderEstimator(inputCols=[\"genderIndex\"],outputCols=[\"genderVec1\"])\n",
    "    vec_assembler2 = VectorAssembler(inputCols=[\"scaledFeatures\",'genderVec1'],outputCol='features')\n",
    "    pipeline=Pipeline(stages=[vec_assembler1,scaler,stringIndexer, encoder,vec_assembler2])\n",
    "    model=pipeline.fit(user_churn_df_train)\n",
    "    train=model.transform(user_churn_df_train)\n",
    "    test=model.transform(user_churn_df_test)\n",
    "\n",
    "    lr = LogisticRegression(labelCol=\"Churn\",featuresCol=\"features\")\n",
    "    lrModel = lr.fit(train)\n",
    "    train_predictions=lrModel.transform(train)\n",
    "    evaluator =evals.MulticlassClassificationEvaluator(labelCol=\"Churn\", predictionCol=\"prediction\",metricName='f1')\n",
    "    print(evaluator.evaluate(train_predictions))\n",
    "    test_predictions=lrModel.transform(test)\n",
    "    print(evaluator.evaluate(test_predictions))\n",
    "lr_predict(user_churn_df)"
   ]
  },
  {
   "cell_type": "code",
   "execution_count": 83,
   "metadata": {},
   "outputs": [
    {
     "name": "stdout",
     "output_type": "stream",
     "text": [
      "0.6861056711190335\n",
      "0.6537820512820512\n"
     ]
    }
   ],
   "source": [
    "lr_predict(user_churn_df)"
   ]
  },
  {
   "cell_type": "code",
   "execution_count": 84,
   "metadata": {},
   "outputs": [
    {
     "name": "stdout",
     "output_type": "stream",
     "text": [
      "0.7102422525439408\n",
      "0.5748251748251748\n"
     ]
    }
   ],
   "source": [
    "lr_predict(user_churn_df)"
   ]
  },
  {
   "cell_type": "code",
   "execution_count": 85,
   "metadata": {},
   "outputs": [
    {
     "name": "stdout",
     "output_type": "stream",
     "text": [
      "0.6749556635052818\n",
      "0.7806085043988269\n"
     ]
    }
   ],
   "source": [
    "lr_predict(user_churn_df)"
   ]
  },
  {
   "cell_type": "code",
   "execution_count": 86,
   "metadata": {},
   "outputs": [
    {
     "name": "stdout",
     "output_type": "stream",
     "text": [
      "0.7589783281733746\n",
      "0.6066309224203961\n"
     ]
    }
   ],
   "source": [
    "lr_predict(user_churn_df)"
   ]
  },
  {
   "cell_type": "code",
   "execution_count": 112,
   "metadata": {},
   "outputs": [
    {
     "data": {
      "image/png": "[encoded data removed]",
      "text/plain": [
       "<Figure size 432x288 with 1 Axes>"
      ]
     },
     "metadata": {
      "needs_background": "light"
     },
     "output_type": "display_data"
    }
   ],
   "source": [
    "f1_df=pd.DataFrame({'train':train_f1_scores,'test':test_f1_scores})\n",
    "f1_df.plot.bar()\n",
    "plt.ylim(0,1)\n",
    "plt.ylabel('f1-score')\n",
    "plt.title('f1_score Train vs Test')\n",
    "plt.show()"
   ]
  },
  {
   "cell_type": "markdown",
   "metadata": {},
   "source": [
    "Perfomance is slightly dependent on the split. This f1-score on the training set ranged from 0.67 to .75 which is resonably good, while the f1-score for the test set ranged from 0.57 to 0.78. This variation is expected considering that train and test sets has only 131 and 32 samples respectively. I expect the performance to be much better with a large dataset"
   ]
  },
  {
   "cell_type": "markdown",
   "metadata": {},
   "source": [
    "# Reflection\n",
    "\n",
    "This was a really interesting project. I had to learn the basics of pyspark first which made it very challenging initially.  So far I have only worked with nicely formatted data with labels and features which can be readily used for building a model. Here I had to label the users first followed by feature engineering.  I really  enjoyed the feature engineering part. This gave me an opportunity to practice the SQL. I was able to implement complex queries to get the features I want. I had to pay lots of attention in cleaning the data as well. Some of the orginal features like level (paid,free) or page(Submit Downgrade) were directly correlated with churned users. If I had included them in my model, I could have obtained a higher value of metrics but a wrong model. \n",
    "\n",
    "In the Random Forest Model, I could see how overfitting leads to bad predictions. I could get higher f1-score on the training set but low f1-score on the test set. I also see the limitation of smaller dataset. Depending on the split, my predictions changed. However, I believe, with a larger dataset it will improve.\n",
    "\n",
    "My model could be further improved by adding extra features. They could be higher order polynomias of the current features or new features like location of users or browsers they used. They would increase the number of features. But I can use dimensionality reduction techniques to avoid overfitting.\n"
   ]
  }
 ],
 "metadata": {
  "kernelspec": {
   "display_name": "Python 3",
   "language": "python",
   "name": "python3"
  },
  "language_info": {
   "codemirror_mode": {
    "name": "ipython",
    "version": 3
   },
   "file_extension": ".py",
   "mimetype": "text/x-python",
   "name": "python",
   "nbconvert_exporter": "python",
   "pygments_lexer": "ipython3",
   "version": "3.7.1"
  }
 },
 "nbformat": 4,
 "nbformat_minor": 2
}
